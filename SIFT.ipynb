{
 "cells": [
  {
   "cell_type": "code",
   "execution_count": 2,
   "metadata": {},
   "outputs": [],
   "source": [
    "import glob"
   ]
  },
  {
   "cell_type": "code",
   "execution_count": 3,
   "metadata": {},
   "outputs": [],
   "source": [
    "import tensorflow\n",
    "\n",
    "import keras\n",
    "from keras.models import Sequential\n",
    "from keras.layers import Dense, Dropout, Flatten\n",
    "from keras.layers import Conv2D, MaxPooling2D\n",
    "from keras.preprocessing import image\n",
    "import numpy as np\n",
    "import pandas as pd\n",
    "import matplotlib.pyplot as plt\n",
    "from sklearn.model_selection import train_test_split\n",
    "from tqdm import tqdm\n",
    "%matplotlib inline"
   ]
  },
  {
   "cell_type": "code",
   "execution_count": 4,
   "metadata": {},
   "outputs": [],
   "source": [
    "import os\n",
    "import numpy as np\n",
    "import pandas as pd\n",
    "import matplotlib.pyplot as plt\n",
    "from PIL import Image\n",
    "import tensorflow as tf\n",
    "from tensorflow.keras.utils import to_categorical\n",
    "from keras.layers import Conv2D, Dense, Flatten, MaxPool2D, Dropout\n",
    "import cv2\n",
    "\n",
    "from sklearn import svm\n",
    "import joblib"
   ]
  },
  {
   "cell_type": "markdown",
   "metadata": {},
   "source": [
    "## <font color='black'> Collecting dataset </font>"
   ]
  },
  {
   "cell_type": "code",
   "execution_count": 41,
   "metadata": {},
   "outputs": [],
   "source": [
    "def create_dataframe(images_path):\n",
    "    data=[]\n",
    "    labels=[]\n",
    "    classes=10\n",
    "    for i in range(classes):\n",
    "        img_path=os.path.join(images_path,str(i))\n",
    "        for img in os.listdir(img_path):\n",
    "            im=cv2.imread(images_path+'/'+str(i)+'/'+img)\n",
    "            im= cv2.cvtColor(im, cv2.COLOR_BGR2GRAY)\n",
    "            _, des = sift.detectAndCompute(im, None)\n",
    "            #reshape_feature = des.reshape(-1, des.shape[0]*des.shape[1])\n",
    "            #im = np.array(im)\n",
    "            data.append(des)\n",
    "            labels.append(i)\n",
    "    data = np.array(data)\n",
    "    labels = np.array(labels)\n",
    "    return data,labels"
   ]
  },
  {
   "cell_type": "code",
   "execution_count": 62,
   "metadata": {},
   "outputs": [],
   "source": [
    "def calcSiftFeature(img):\n",
    "         #Set image sift feature key points to a maximum of 200\n",
    "\n",
    "    sift = cv2.xfeatures2d.SIFT_create()\n",
    "         #Calculate the feature points and feature point description of the picture\n",
    "    keypoints, features = sift.detectAndCompute(img, None)\n",
    "    return features"
   ]
  },
  {
   "cell_type": "code",
   "execution_count": 63,
   "metadata": {},
   "outputs": [],
   "source": [
    "#Calculation word bag\n",
    "def learnVocabulary(features):\n",
    "    wordCnt = 50\n",
    "    #criteria indicates the mode of iteration stop eps --- precision 0.1, max_iter --- meet more than the maximum number of iterations 20\n",
    "    criteria = (cv2.TERM_CRITERIA_EPS + cv2.TERM_CRITERIA_MAX_ITER, 20, 0.1)\n",
    "    #Get the initial center point of k-means clustering\n",
    "    flags = cv2.KMEANS_RANDOM_CENTERS\n",
    "    # Label, center = kmeans(input data (feature), number of clusters K, preset label, cluster stop condition, number of repeated clusters, initial cluster center point\n",
    "    compactness, labels, centers = cv2.kmeans(features, wordCnt, None,criteria, 20, flags)\n",
    "    return centers"
   ]
  },
  {
   "cell_type": "code",
   "execution_count": 64,
   "metadata": {},
   "outputs": [],
   "source": [
    "#Calculate feature vector\n",
    "def calcFeatVec(features, centers):\n",
    "    featVec = np.zeros((1, 50))\n",
    "    for i in range(0, features.shape[0]):\n",
    "        #The characteristic point of the i-th picture\n",
    "        fi = features[i]\n",
    "        diffMat = np.tile(fi, (50, 1)) - centers\n",
    "        #axis=1Sum by line, that is, the distance between the feature and each center point\n",
    "        sqSum = (diffMat**2).sum(axis=1)\n",
    "        dist = sqSum**0.5\n",
    "        #Ascending order\n",
    "        sortedIndices = dist.argsort()\n",
    "        #Remove the smallest distance, that is, find the nearest center point\n",
    "        idx = sortedIndices[0]\n",
    "        #The center point corresponds to +1\n",
    "        featVec[0][idx] += 1\n",
    "    return featVec"
   ]
  },
  {
   "cell_type": "code",
   "execution_count": 47,
   "metadata": {},
   "outputs": [],
   "source": [
    "img_f=cv2.imread('Dataset/Train/0/122.jpg')\n",
    "img_f = calcSiftFeature(img)"
   ]
  },
  {
   "cell_type": "code",
   "execution_count": 48,
   "metadata": {},
   "outputs": [
    {
     "data": {
      "text/plain": [
       "(128,)"
      ]
     },
     "execution_count": 48,
     "metadata": {},
     "output_type": "execute_result"
    }
   ],
   "source": [
    "img_f.shape"
   ]
  },
  {
   "cell_type": "code",
   "execution_count": 70,
   "metadata": {},
   "outputs": [],
   "source": [
    "#Build word bags\n",
    "def build_center(path):\n",
    "    cate=[path+'/'+x for x in os.listdir(path) if os.path.isdir(path+'/'+x)]\n",
    "    features = np.float32([]).reshape(0, 128)#Store features of training set pictures\n",
    "    for idx,folder in enumerate(cate):\n",
    "        for im in glob.glob(folder+'/*.jpg'):\n",
    "            img=cv2.imread(im)\n",
    "            \n",
    "            #Get picture sift feature points\n",
    "            img_f = calcSiftFeature(img)\n",
    "            #Feature points join training data\n",
    "            #print(img_f.shape,features.shape)\n",
    "            \n",
    "            features = np.append(features, img_f, axis=0)\n",
    "    #Training set of word bags\n",
    "    centers = learnVocabulary(features)\n",
    "    #Save the word bag\n",
    "    filename = \"Dataset/svm_centers.npy\"\n",
    "    np.save(filename, centers)\n",
    "    print('Word bag:',centers.shape)"
   ]
  },
  {
   "cell_type": "code",
   "execution_count": 71,
   "metadata": {},
   "outputs": [],
   "source": [
    "def cal_vec(path):\n",
    "    centers = np.load(\"Dataset/svm_centers.npy\")\n",
    "    data_vec = np.float32([]).reshape(0, 50)#Store features of training set pictures\n",
    "    labels = np.float32([])\n",
    "    cate=[path+'/'+x for x in os.listdir(path) if os.path.isdir(path+'/'+x)]\n",
    "    for idx,folder in enumerate(cate):\n",
    "        for im in glob.glob(folder+'/*.jpg'):\n",
    "            #print('reading the images:%s'%(im))#im indicates the path of an image\n",
    "            img=cv2.imread(im)\n",
    "            #Get picture sift feature points\n",
    "            img_f = calcSiftFeature(img)\n",
    "            img_vec = calcFeatVec(img_f, centers)\n",
    "            data_vec = np.append(data_vec,img_vec,axis=0)\n",
    "            labels = np.append(labels,idx)\n",
    "    print('data_vec:',data_vec.shape)\n",
    "    print('image features vector done!')\n",
    "    return data_vec,labels"
   ]
  },
  {
   "cell_type": "code",
   "execution_count": 82,
   "metadata": {},
   "outputs": [],
   "source": [
    "def SVM_Train(data_vec,labels):\n",
    "    #Set SVM model parameters\n",
    "    clf = svm.SVC(decision_function_shape='ovo')\n",
    "    #Use x_train, y_train to train the SVM classifier and obtain the parameters\n",
    "    clf.fit(data_vec,labels)\n",
    "    joblib.dump(clf, \"Dataset/svm_model.m\")"
   ]
  },
  {
   "cell_type": "code",
   "execution_count": 92,
   "metadata": {},
   "outputs": [],
   "source": [
    "def SVM_Test(path):\n",
    "    #Read SVM model\n",
    "    clf = joblib.load(\"Dataset/svm_model.m\")\n",
    "    #Read the word bag\n",
    "    centers = np.load(\"Dataset/svm_centers.npy\")\n",
    "    #Calculate the feature vector of each picture\n",
    "    data_vec,labels = cal_vec(path)\n",
    "    res = clf.predict(data_vec)\n",
    "    num_test = data_vec.shape[0]\n",
    "    acc = 0\n",
    "    for i in range(num_test):\n",
    "        if labels[i] == res[i]:\n",
    "            acc = acc+1\n",
    "    return acc/num_test,res"
   ]
  },
  {
   "cell_type": "code",
   "execution_count": 75,
   "metadata": {},
   "outputs": [],
   "source": [
    "def create_dataframe(images_path):\n",
    "    data=[]\n",
    "    labels=[]\n",
    "    classes=10\n",
    "    for i in range(classes):\n",
    "        img_path=os.path.join(images_path,str(i))\n",
    "        for img in os.listdir(img_path):\n",
    "            #im=cv2.imread(images_path+'/'+str(i)+'/'+img)\n",
    "            #im= remove_background(im)\n",
    "            #im = np.array(im)\n",
    "            #data.append(im)\n",
    "            labels.append(i)\n",
    "    #data = np.array(data)\n",
    "    labels = np.array(labels)\n",
    "    return labels"
   ]
  },
  {
   "cell_type": "code",
   "execution_count": 107,
   "metadata": {},
   "outputs": [],
   "source": [
    "from numpy import load\n",
    "y_train=load('labels.npy')"
   ]
  },
  {
   "cell_type": "code",
   "execution_count": 103,
   "metadata": {},
   "outputs": [
    {
     "name": "stdout",
     "output_type": "stream",
     "text": [
      "Word bag: (50, 128)\n",
      "data_vec: (3600, 50)\n",
      "image features vector done!\n"
     ]
    }
   ],
   "source": [
    "train_path = 'Train_GRAY'\n",
    "test_path = 'Test_GRAY'\n",
    "#Build word bags\n",
    "build_center(train_path)\n",
    "#Build training set feature vector\n",
    "data_vec,labels = cal_vec(train_path)"
   ]
  },
  {
   "cell_type": "code",
   "execution_count": 104,
   "metadata": {},
   "outputs": [],
   "source": [
    "from numpy import save\n",
    "save('SIFT_Features.npy',data_vec)\n",
    "save('SIFT_labels.npy',y_train)"
   ]
  },
  {
   "cell_type": "code",
   "execution_count": null,
   "metadata": {},
   "outputs": [],
   "source": [
    "save('SIFT_test',)"
   ]
  },
  {
   "cell_type": "code",
   "execution_count": 108,
   "metadata": {},
   "outputs": [],
   "source": [
    "#Input feature vector and label into SVM classifier\n",
    "SVM_Train(data_vec,y_train)\n",
    "\n"
   ]
  },
  {
   "cell_type": "code",
   "execution_count": 109,
   "metadata": {},
   "outputs": [
    {
     "name": "stdout",
     "output_type": "stream",
     "text": [
      "data_vec: (401, 50)\n",
      "image features vector done!\n"
     ]
    }
   ],
   "source": [
    "data_vec,labels = cal_vec(test_path)"
   ]
  },
  {
   "cell_type": "code",
   "execution_count": 111,
   "metadata": {},
   "outputs": [],
   "source": [
    "data_vec,_,labels,_=train_test_split(data_vec,labels, test_size=0.001, random_state=42)"
   ]
  },
  {
   "cell_type": "code",
   "execution_count": 115,
   "metadata": {},
   "outputs": [],
   "source": [
    "from numpy import save\n",
    "save('SIFT_test_Features.npy',data_vec)\n",
    "save('SIFT_test_labels.npy',labels)"
   ]
  },
  {
   "cell_type": "code",
   "execution_count": 166,
   "metadata": {},
   "outputs": [
    {
     "name": "stdout",
     "output_type": "stream",
     "text": [
      "data_vec: (401, 50)\n",
      "image features vector done!\n",
      "0.885286783042394\n"
     ]
    }
   ],
   "source": [
    "#Calculate the correct rate of the test set\n",
    "acc,res = SVM_Test(test_path)\n",
    "print(acc)"
   ]
  },
  {
   "cell_type": "code",
   "execution_count": null,
   "metadata": {},
   "outputs": [],
   "source": [
    "x_train=load('SIFT_Features.npy')\n",
    "x_test="
   ]
  },
  {
   "cell_type": "code",
   "execution_count": 118,
   "metadata": {},
   "outputs": [
    {
     "ename": "NameError",
     "evalue": "name 'x_train' is not defined",
     "output_type": "error",
     "traceback": [
      "\u001b[1;31m---------------------------------------------------------------------------\u001b[0m",
      "\u001b[1;31mNameError\u001b[0m                                 Traceback (most recent call last)",
      "\u001b[1;32m<ipython-input-118-bd087168b79b>\u001b[0m in \u001b[0;36m<module>\u001b[1;34m\u001b[0m\n\u001b[1;32m----> 1\u001b[1;33m \u001b[0mx_train\u001b[0m\u001b[1;33m=\u001b[0m \u001b[0mx_train\u001b[0m\u001b[1;33m[\u001b[0m\u001b[1;33m...\u001b[0m\u001b[1;33m,\u001b[0m \u001b[0mnp\u001b[0m\u001b[1;33m.\u001b[0m\u001b[0mnewaxis\u001b[0m\u001b[1;33m]\u001b[0m\u001b[1;33m\u001b[0m\u001b[1;33m\u001b[0m\u001b[0m\n\u001b[0m\u001b[0;32m      2\u001b[0m \u001b[0mx_test\u001b[0m\u001b[1;33m=\u001b[0m\u001b[0mx_test\u001b[0m\u001b[1;33m[\u001b[0m\u001b[1;33m...\u001b[0m\u001b[1;33m,\u001b[0m \u001b[0mnp\u001b[0m\u001b[1;33m.\u001b[0m\u001b[0mnewaxis\u001b[0m\u001b[1;33m]\u001b[0m\u001b[1;33m\u001b[0m\u001b[1;33m\u001b[0m\u001b[0m\n",
      "\u001b[1;31mNameError\u001b[0m: name 'x_train' is not defined"
     ]
    }
   ],
   "source": [
    "x_train= x_train[..., np.newaxis]\n",
    "x_test=x_test[..., np.newaxis]"
   ]
  },
  {
   "cell_type": "code",
   "execution_count": null,
   "metadata": {},
   "outputs": [],
   "source": []
  },
  {
   "cell_type": "code",
   "execution_count": null,
   "metadata": {},
   "outputs": [],
   "source": []
  },
  {
   "cell_type": "code",
   "execution_count": null,
   "metadata": {},
   "outputs": [],
   "source": []
  },
  {
   "cell_type": "code",
   "execution_count": null,
   "metadata": {},
   "outputs": [],
   "source": []
  },
  {
   "cell_type": "code",
   "execution_count": null,
   "metadata": {},
   "outputs": [],
   "source": []
  },
  {
   "cell_type": "code",
   "execution_count": null,
   "metadata": {},
   "outputs": [],
   "source": []
  },
  {
   "cell_type": "code",
   "execution_count": null,
   "metadata": {},
   "outputs": [],
   "source": []
  },
  {
   "cell_type": "code",
   "execution_count": null,
   "metadata": {},
   "outputs": [],
   "source": []
  },
  {
   "cell_type": "code",
   "execution_count": null,
   "metadata": {},
   "outputs": [],
   "source": []
  },
  {
   "cell_type": "code",
   "execution_count": null,
   "metadata": {},
   "outputs": [],
   "source": []
  },
  {
   "cell_type": "code",
   "execution_count": null,
   "metadata": {},
   "outputs": [],
   "source": []
  },
  {
   "cell_type": "code",
   "execution_count": null,
   "metadata": {},
   "outputs": [],
   "source": []
  },
  {
   "cell_type": "code",
   "execution_count": null,
   "metadata": {},
   "outputs": [],
   "source": []
  },
  {
   "cell_type": "code",
   "execution_count": null,
   "metadata": {},
   "outputs": [],
   "source": []
  },
  {
   "cell_type": "code",
   "execution_count": null,
   "metadata": {},
   "outputs": [],
   "source": []
  },
  {
   "cell_type": "code",
   "execution_count": null,
   "metadata": {},
   "outputs": [],
   "source": []
  },
  {
   "cell_type": "code",
   "execution_count": null,
   "metadata": {},
   "outputs": [],
   "source": []
  },
  {
   "cell_type": "code",
   "execution_count": null,
   "metadata": {},
   "outputs": [],
   "source": []
  },
  {
   "cell_type": "code",
   "execution_count": null,
   "metadata": {},
   "outputs": [],
   "source": []
  },
  {
   "cell_type": "code",
   "execution_count": null,
   "metadata": {},
   "outputs": [],
   "source": []
  },
  {
   "cell_type": "code",
   "execution_count": 168,
   "metadata": {},
   "outputs": [
    {
     "data": {
      "text/plain": [
       "(120, 160, 3)"
      ]
     },
     "execution_count": 168,
     "metadata": {},
     "output_type": "execute_result"
    }
   ],
   "source": []
  },
  {
   "cell_type": "code",
   "execution_count": 14,
   "metadata": {},
   "outputs": [],
   "source": [
    "img=cv2.imread('Dataset/Train/0/370.jpg')"
   ]
  },
  {
   "cell_type": "code",
   "execution_count": 15,
   "metadata": {},
   "outputs": [
    {
     "data": {
      "text/plain": [
       "<matplotlib.image.AxesImage at 0x1ebb6df4860>"
      ]
     },
     "execution_count": 15,
     "metadata": {},
     "output_type": "execute_result"
    },
    {
     "data": {
      "image/png": "[encoded data removed]",
      "text/plain": [
       "<Figure size 432x288 with 1 Axes>"
      ]
     },
     "metadata": {
      "needs_background": "light"
     },
     "output_type": "display_data"
    }
   ],
   "source": [
    "plt.imshow(img)"
   ]
  },
  {
   "cell_type": "code",
   "execution_count": 162,
   "metadata": {},
   "outputs": [],
   "source": [
    "sift = cv2.xfeatures2d.SIFT_create()\n",
    "         #Calculate the feature points and feature point description of the picture\n",
    "keypoints, features = sift.detectAndCompute(img, None)"
   ]
  },
  {
   "cell_type": "code",
   "execution_count": 163,
   "metadata": {},
   "outputs": [],
   "source": [
    "gray = cv2.cvtColor(img, cv2.COLOR_BGR2GRAY)"
   ]
  },
  {
   "cell_type": "code",
   "execution_count": 164,
   "metadata": {},
   "outputs": [],
   "source": [
    "\n",
    "img = cv2.drawKeypoints(gray,keypoints,img)"
   ]
  },
  {
   "cell_type": "code",
   "execution_count": 165,
   "metadata": {},
   "outputs": [
    {
     "data": {
      "text/plain": [
       "<matplotlib.image.AxesImage at 0x21d01ad4400>"
      ]
     },
     "execution_count": 165,
     "metadata": {},
     "output_type": "execute_result"
    },
    {
     "data": {
      "image/png": "[encoded data removed]",
      "text/plain": [
       "<Figure size 432x288 with 1 Axes>"
      ]
     },
     "metadata": {
      "needs_background": "light"
     },
     "output_type": "display_data"
    }
   ],
   "source": [
    "plt.imshow(img)"
   ]
  },
  {
   "cell_type": "code",
   "execution_count": null,
   "metadata": {},
   "outputs": [],
   "source": []
  },
  {
   "cell_type": "code",
   "execution_count": null,
   "metadata": {},
   "outputs": [],
   "source": []
  },
  {
   "cell_type": "code",
   "execution_count": 48,
   "metadata": {},
   "outputs": [],
   "source": [
    "img=cv2.imread('Dataset/Train/0/35.jpg')"
   ]
  },
  {
   "cell_type": "code",
   "execution_count": 49,
   "metadata": {},
   "outputs": [],
   "source": [
    "img_gray = cv2.cvtColor(img, cv2.COLOR_BGR2GRAY)"
   ]
  },
  {
   "cell_type": "code",
   "execution_count": 75,
   "metadata": {},
   "outputs": [],
   "source": [
    "thresh = cv2.adaptiveThreshold(img_gray,255,cv2.ADAPTIVE_THRESH_GAUSSIAN_C,cv2.THRESH_BINARY_INV,133,5)"
   ]
  },
  {
   "cell_type": "code",
   "execution_count": 67,
   "metadata": {},
   "outputs": [],
   "source": [
    "_, thresh = cv2.threshold(img_gray, 120, 255, cv2.THRESH_BINARY_INV)"
   ]
  },
  {
   "cell_type": "code",
   "execution_count": 80,
   "metadata": {},
   "outputs": [
    {
     "data": {
      "text/plain": [
       "<matplotlib.image.AxesImage at 0x1ebb992a0f0>"
      ]
     },
     "execution_count": 80,
     "metadata": {},
     "output_type": "execute_result"
    },
    {
     "data": {
      "image/png": "[encoded data removed]",
      "text/plain": [
       "<Figure size 432x288 with 1 Axes>"
      ]
     },
     "metadata": {
      "needs_background": "light"
     },
     "output_type": "display_data"
    }
   ],
   "source": [
    "plt.imshow(thresh,cmap='gray')"
   ]
  },
  {
   "cell_type": "code",
   "execution_count": 81,
   "metadata": {},
   "outputs": [
    {
     "data": {
      "text/plain": [
       "array([[[  0, 255,   0],\n",
       "        [  0, 255,   0],\n",
       "        [  0, 255,   0],\n",
       "        ...,\n",
       "        [  0, 255,   0],\n",
       "        [  0, 255,   0],\n",
       "        [  0, 255,   0]],\n",
       "\n",
       "       [[  0, 255,   0],\n",
       "        [  0, 255,   0],\n",
       "        [  0, 255,   0],\n",
       "        ...,\n",
       "        [  0, 255,   0],\n",
       "        [  0, 255,   0],\n",
       "        [  0, 255,   0]],\n",
       "\n",
       "       [[  0, 255,   0],\n",
       "        [  0, 255,   0],\n",
       "        [ 54, 205,  51],\n",
       "        ...,\n",
       "        [ 61, 207,  59],\n",
       "        [  0, 255,   0],\n",
       "        [  0, 255,   0]],\n",
       "\n",
       "       ...,\n",
       "\n",
       "       [[  0, 255,   0],\n",
       "        [  0, 255,   0],\n",
       "        [ 83, 223,  71],\n",
       "        ...,\n",
       "        [  0, 255,   0],\n",
       "        [  0, 255,   0],\n",
       "        [  0, 255,   0]],\n",
       "\n",
       "       [[  0, 255,   0],\n",
       "        [  0, 255,   0],\n",
       "        [  0, 255,   0],\n",
       "        ...,\n",
       "        [  0, 255,   0],\n",
       "        [  0, 255,   0],\n",
       "        [  0, 255,   0]],\n",
       "\n",
       "       [[  0, 255,   0],\n",
       "        [  0, 255,   0],\n",
       "        [  0, 255,   0],\n",
       "        ...,\n",
       "        [  0, 255,   0],\n",
       "        [  0, 255,   0],\n",
       "        [  0, 255,   0]]], dtype=uint8)"
      ]
     },
     "execution_count": 81,
     "metadata": {},
     "output_type": "execute_result"
    }
   ],
   "source": [
    "image=img\n",
    "contours, hierarchy = cv2.findContours(image=thresh, mode=cv2.RETR_TREE, method=cv2.CHAIN_APPROX_NONE)\n",
    "                                    \n",
    "# draw contours on the original image\n",
    "image_copy = image.copy()\n",
    "cv2.drawContours(image=image_copy, contours=contours, contourIdx=-1, color=(0, 255, 0), thickness=2, lineType=cv2.LINE_AA)"
   ]
  },
  {
   "cell_type": "code",
   "execution_count": 70,
   "metadata": {},
   "outputs": [],
   "source": [
    "contours, hierarchy = cv2.findContours(thresh, cv2.RETR_TREE, cv2.CHAIN_APPROX_SIMPLE)\n",
    "# draw all contours\n",
    "image = cv2.drawContours(image, contours, -1, (0, 255, 0), 2)"
   ]
  },
  {
   "cell_type": "code",
   "execution_count": 85,
   "metadata": {},
   "outputs": [
    {
     "data": {
      "text/plain": [
       "array([[  0,   0,   0, ...,   0,   0,   0],\n",
       "       [  0,   0,   0, ...,   0,   0,   0],\n",
       "       [  0,   0,  79, ...,  90,   0,   0],\n",
       "       ...,\n",
       "       [  0,   0, 109, ...,  94,   0,   0],\n",
       "       [  0,   0,   0, ...,   0,   0,   0],\n",
       "       [  0,   0,   0, ...,   0,   0,   0]], dtype=uint8)"
      ]
     },
     "execution_count": 85,
     "metadata": {},
     "output_type": "execute_result"
    }
   ],
   "source": [
    "contours1, hierarchy1 = cv2.findContours(thresh, cv2.RETR_TREE, cv2.CHAIN_APPROX_SIMPLE)\n",
    "# draw contours on the original image for `CHAIN_APPROX_SIMPLE`\n",
    "image_copy1 = image.copy()\n",
    "cv2.drawContours(image_copy1, contours1, -1, (0, 255, 0), 2, cv2.LINE_AA)\n"
   ]
  },
  {
   "cell_type": "code",
   "execution_count": 83,
   "metadata": {},
   "outputs": [],
   "source": [
    "#image=cv2.cvtColor(image, cv2.COLOR_BGR2GRAY)"
   ]
  },
  {
   "cell_type": "code",
   "execution_count": 87,
   "metadata": {},
   "outputs": [
    {
     "data": {
      "text/plain": [
       "<matplotlib.image.AxesImage at 0x1ebb9a54470>"
      ]
     },
     "execution_count": 87,
     "metadata": {},
     "output_type": "execute_result"
    },
    {
     "data": {
      "image/png": "[encoded data removed]",
      "text/plain": [
       "<Figure size 432x288 with 1 Axes>"
      ]
     },
     "metadata": {
      "needs_background": "light"
     },
     "output_type": "display_data"
    }
   ],
   "source": [
    "plt.imshow(image_copy1)#,cmap='gray')"
   ]
  },
  {
   "cell_type": "code",
   "execution_count": 88,
   "metadata": {},
   "outputs": [],
   "source": [
    "def remove_background(img):\n",
    "    #img1 = rgb2gray(img)\n",
    "    img1 = cv2.cvtColor(img, cv2.COLOR_BGR2GRAY)\n",
    "    img2 = img\n",
    "    #blur = cv2.GaussianBlur(img1,(3,3),0)\n",
    "    #ret,thresh1 = cv2.threshold(img1,225,255,cv2.THRESH_BINARY_INV)\n",
    "    thresh1 = cv2.adaptiveThreshold(img1,255,cv2.ADAPTIVE_THRESH_GAUSSIAN_C,cv2.THRESH_BINARY_INV,133,5)\n",
    "    kernel = np.ones((3,3),np.uint8)\n",
    "    opening = cv2.morphologyEx(thresh1, cv2.MORPH_OPEN, kernel)\n",
    "    closing = cv2.morphologyEx(opening, cv2.MORPH_CLOSE, kernel)\n",
    "    b,g,r = cv2.split(img2)\n",
    "    for i in range(closing.shape[0]):\n",
    "      for j in range(closing.shape[1]):\n",
    "        if(closing[i,j])==0:\n",
    "          b[i,j] = 0\n",
    "          g[i,j] = 0\n",
    "          r[i,j] = 0\n",
    "\n",
    "    newimg = cv2.merge((b,g,r))\n",
    "    \n",
    "    newimg=cv2.cvtColor(newimg, cv2.COLOR_BGR2GRAY)\n",
    "    return newimg"
   ]
  },
  {
   "cell_type": "code",
   "execution_count": 112,
   "metadata": {},
   "outputs": [],
   "source": [
    "def remove_background_new(img):\n",
    "    #img1 = rgb2gray(img)\n",
    "    img1 = cv2.cvtColor(img, cv2.COLOR_BGR2GRAY)\n",
    "    img2 = img\n",
    "    #blur = cv2.GaussianBlur(img1,(3,3),0)\n",
    "    #ret,thresh1 = cv2.threshold(img1,225,255,cv2.THRESH_BINARY_INV)\n",
    "    thresh1 = cv2.adaptiveThreshold(img1,255,cv2.ADAPTIVE_THRESH_GAUSSIAN_C,cv2.THRESH_BINARY_INV,133,5)\n",
    "    \n",
    "    contours1, hierarchy1 = cv2.findContours(thresh1, cv2.RETR_TREE, cv2.CHAIN_APPROX_SIMPLE)\n",
    "# draw contours on the original image for `CHAIN_APPROX_SIMPLE`\n",
    "    image_copy1 = image.copy()\n",
    "    cv2.drawContours(image_copy1, contours1, -1, (0, 255, 0), 2, cv2.LINE_AA)\n",
    "    newimg=image_copy1\n",
    "    #newimg=cv2.cvtColor(newimg, cv2.COLOR_BGR2GRAY)\n",
    "    return newimg"
   ]
  },
  {
   "cell_type": "code",
   "execution_count": 113,
   "metadata": {},
   "outputs": [],
   "source": [
    "img=cv2.imread('Dataset/Train/0/10.jpg')"
   ]
  },
  {
   "cell_type": "code",
   "execution_count": 114,
   "metadata": {},
   "outputs": [],
   "source": [
    "nn=remove_background(img)"
   ]
  },
  {
   "cell_type": "code",
   "execution_count": 115,
   "metadata": {},
   "outputs": [
    {
     "data": {
      "text/plain": [
       "<matplotlib.image.AxesImage at 0x1ebb9de2668>"
      ]
     },
     "execution_count": 115,
     "metadata": {},
     "output_type": "execute_result"
    },
    {
     "data": {
      "image/png": "[encoded data removed]",
      "text/plain": [
       "<Figure size 432x288 with 1 Axes>"
      ]
     },
     "metadata": {
      "needs_background": "light"
     },
     "output_type": "display_data"
    }
   ],
   "source": [
    "plt.imshow(nn)"
   ]
  },
  {
   "cell_type": "code",
   "execution_count": 116,
   "metadata": {},
   "outputs": [],
   "source": [
    "nn1=remove_background_new(img)"
   ]
  },
  {
   "cell_type": "code",
   "execution_count": 117,
   "metadata": {},
   "outputs": [
    {
     "data": {
      "text/plain": [
       "<matplotlib.image.AxesImage at 0x1ebb9e45390>"
      ]
     },
     "execution_count": 117,
     "metadata": {},
     "output_type": "execute_result"
    },
    {
     "data": {
      "image/png": "[encoded data removed]",
      "text/plain": [
       "<Figure size 432x288 with 1 Axes>"
      ]
     },
     "metadata": {
      "needs_background": "light"
     },
     "output_type": "display_data"
    }
   ],
   "source": [
    "plt.imshow(nn1)"
   ]
  },
  {
   "cell_type": "code",
   "execution_count": null,
   "metadata": {},
   "outputs": [],
   "source": []
  }
 ],
 "metadata": {
  "kernelspec": {
   "display_name": "Python 3",
   "language": "python",
   "name": "python3"
  },
  "language_info": {
   "codemirror_mode": {
    "name": "ipython",
    "version": 3
   },
   "file_extension": ".py",
   "mimetype": "text/x-python",
   "name": "python",
   "nbconvert_exporter": "python",
   "pygments_lexer": "ipython3",
   "version": "3.7.3"
  }
 },
 "nbformat": 4,
 "nbformat_minor": 2
}
