{
 "cells": [
  {
   "cell_type": "markdown",
   "metadata": {},
   "source": [
    "## <font color='black'> Mounting Libraries and packages </font>"
   ]
  },
  {
   "cell_type": "code",
   "execution_count": 23,
   "metadata": {},
   "outputs": [],
   "source": [
    "import tensorflow\n",
    "\n",
    "import keras\n",
    "from keras.models import Sequential\n",
    "from keras.layers import Dense, Dropout, Flatten\n",
    "from keras.layers import Conv2D, MaxPooling2D\n",
    "from keras.preprocessing import image\n",
    "import numpy as np\n",
    "import pandas as pd\n",
    "import matplotlib.pyplot as plt\n",
    "from sklearn.model_selection import train_test_split\n",
    "from tqdm import tqdm\n",
    "%matplotlib inline\n",
    "\n",
    "import os\n",
    "import numpy as np\n",
    "import pandas as pd\n",
    "import matplotlib.pyplot as plt\n",
    "from PIL import Image\n",
    "import tensorflow as tf\n",
    "from tensorflow.keras.utils import to_categorical\n",
    "from keras.layers import Conv2D, Dense, Flatten, MaxPool2D, Dropout\n",
    "import cv2\n",
    "\n",
    "import os\n",
    "import time\n",
    "import pandas as pd\n",
    "from keras import backend as K\n",
    "import tensorflow as tf\n",
    "from tensorflow import keras\n",
    "from tensorflow.keras.models import Model,Sequential\n",
    "from tensorflow.keras.preprocessing.image import ImageDataGenerator,load_img,img_to_array\n",
    "from tensorflow.keras.layers import MaxPool2D ,ReLU,Lambda,TimeDistributed,Dense, GlobalAveragePooling2D, Dropout,LSTM,Conv2D,MaxPooling2D,Flatten,BatchNormalization"
   ]
  },
  {
   "cell_type": "code",
   "execution_count": 24,
   "metadata": {},
   "outputs": [],
   "source": [
    "import os\n",
    "import numpy as np\n",
    "import pandas as pd\n",
    "import matplotlib.pyplot as plt\n",
    "from PIL import Image\n",
    "import tensorflow as tf\n",
    "from tensorflow.keras.utils import to_categorical\n",
    "from keras.layers import Conv2D, Dense, Flatten, MaxPool2D, Dropout\n",
    "import cv2"
   ]
  },
  {
   "cell_type": "code",
   "execution_count": 25,
   "metadata": {},
   "outputs": [],
   "source": [
    "import numpy as np\n",
    "from skimage.io import imread, imshow\n",
    "from skimage.filters import prewitt_h,prewitt_v\n",
    "import matplotlib.pyplot as plt\n",
    "from matplotlib.pyplot import imshow\n",
    "%matplotlib inline"
   ]
  },
  {
   "cell_type": "markdown",
   "metadata": {},
   "source": [
    "## <font color='black'> Collecting dataset </font>"
   ]
  },
  {
   "cell_type": "code",
   "execution_count": 3,
   "metadata": {},
   "outputs": [],
   "source": [
    "def create_new_training_data(image_path,height,width):\n",
    "    data=[]\n",
    "    labels=[]\n",
    "    classes=10\n",
    "    \n",
    "    for i in range(classes):\n",
    "        img_path=os.path.join(image_path,str(i))\n",
    "        k=0\n",
    "        for img in os.listdir(img_path):\n",
    "            im=cv2.imread(image_path+'/'+str(i)+'/'+img)\n",
    "            im = cv2.resize(im, (width,height), interpolation = cv2.INTER_AREA)\n",
    "            path = 'Dataset/Train/'+str(i)\n",
    "            cv2.imwrite(os.path.join(path ,str(k)+'.jpg'), im)\n",
    "            k+=1"
   ]
  },
  {
   "cell_type": "code",
   "execution_count": 5,
   "metadata": {},
   "outputs": [],
   "source": [
    "image_path='Dataset'\n",
    "create_new_training_data(image_path,120,160)"
   ]
  },
  {
   "cell_type": "code",
   "execution_count": 5,
   "metadata": {},
   "outputs": [],
   "source": [
    "def create_dataframe(images_path):\n",
    "    data=[]\n",
    "    labels=[]\n",
    "    classes=10\n",
    "    for i in range(classes):\n",
    "        img_path=os.path.join(images_path,str(i))\n",
    "        for img in os.listdir(img_path):\n",
    "            im=cv2.imread(images_path+'/'+str(i)+'/'+img)\n",
    "            im= cv2.cvtColor(im, cv2.COLOR_BGR2GRAY)\n",
    "            im = np.array(im)\n",
    "            data.append(im)\n",
    "            labels.append(i)\n",
    "    data = np.array(data)\n",
    "    labels = np.array(labels)\n",
    "    return data,labels"
   ]
  },
  {
   "cell_type": "code",
   "execution_count": 6,
   "metadata": {},
   "outputs": [],
   "source": [
    "data,labels=create_dataframe('Dataset/Train')"
   ]
  },
  {
   "cell_type": "code",
   "execution_count": 36,
   "metadata": {},
   "outputs": [],
   "source": [
    "from numpy import load\n",
    "data=load('data.npy')\n",
    "labels=load('labels.npy')"
   ]
  },
  {
   "cell_type": "code",
   "execution_count": 37,
   "metadata": {},
   "outputs": [
    {
     "data": {
      "text/plain": [
       "(3600, 120, 160)"
      ]
     },
     "execution_count": 37,
     "metadata": {},
     "output_type": "execute_result"
    }
   ],
   "source": [
    "data.shape"
   ]
  },
  {
   "cell_type": "code",
   "execution_count": 38,
   "metadata": {},
   "outputs": [
    {
     "data": {
      "text/plain": [
       "<matplotlib.image.AxesImage at 0x172800f2860>"
      ]
     },
     "execution_count": 38,
     "metadata": {},
     "output_type": "execute_result"
    },
    {
     "data": {
      "image/png": "[encoded data removed]",
      "text/plain": [
       "<Figure size 432x288 with 1 Axes>"
      ]
     },
     "metadata": {
      "needs_background": "light"
     },
     "output_type": "display_data"
    }
   ],
   "source": [
    "plt.imshow(data[0],cmap='gray')"
   ]
  },
  {
   "cell_type": "code",
   "execution_count": 39,
   "metadata": {},
   "outputs": [
    {
     "data": {
      "text/plain": [
       "(3600,)"
      ]
     },
     "execution_count": 39,
     "metadata": {},
     "output_type": "execute_result"
    }
   ],
   "source": [
    "labels.shape"
   ]
  },
  {
   "cell_type": "markdown",
   "metadata": {},
   "source": [
    "## <font color='black'> segmenting out a test set </font>"
   ]
  },
  {
   "cell_type": "code",
   "execution_count": 40,
   "metadata": {},
   "outputs": [],
   "source": [
    "x, x_final_test, y, y_final_test = train_test_split(data, labels, test_size=0.2, random_state=42)"
   ]
  },
  {
   "cell_type": "code",
   "execution_count": 34,
   "metadata": {},
   "outputs": [],
   "source": [
    "k=0\n",
    "for j in x_final_test:\n",
    "    path = 'Dataset/Test'\n",
    "    cv2.imwrite(os.path.join(path ,str(k)+'.jpg'), j)\n",
    "    k+=1\n",
    "    "
   ]
  },
  {
   "cell_type": "code",
   "execution_count": 41,
   "metadata": {},
   "outputs": [
    {
     "name": "stdout",
     "output_type": "stream",
     "text": [
      "(3240, 120, 160)\n"
     ]
    },
    {
     "data": {
      "text/plain": [
       "(360, 120, 160)"
      ]
     },
     "execution_count": 41,
     "metadata": {},
     "output_type": "execute_result"
    }
   ],
   "source": [
    "print(x.shape)\n",
    "x_final_test.shape"
   ]
  },
  {
   "cell_type": "markdown",
   "metadata": {},
   "source": [
    "## <font color='black'> Splitting into train and validation data </font>"
   ]
  },
  {
   "cell_type": "code",
   "execution_count": 42,
   "metadata": {},
   "outputs": [
    {
     "name": "stdout",
     "output_type": "stream",
     "text": [
      "training shape:  (2880, 120, 160) (2880,)\n",
      "testing shape:  (720, 120, 160) (720,)\n"
     ]
    }
   ],
   "source": [
    "from sklearn.model_selection import train_test_split\n",
    "\n",
    "x=data\n",
    "y=labels\n",
    "\n",
    "\n",
    "x_train, x_test, y_train, y_test = train_test_split(x, y, test_size=0.2, random_state=42)\n",
    "x_train=x_train/255\n",
    "x_test=x_test/255\n",
    "print(\"training shape: \",x_train.shape, y_train.shape)\n",
    "print(\"testing shape: \",x_test.shape, y_test.shape)"
   ]
  },
  {
   "cell_type": "code",
   "execution_count": 43,
   "metadata": {},
   "outputs": [],
   "source": [
    "# Hot Encoding \n",
    "\n",
    "y_train_encoded = to_categorical(y_train, 10)\n",
    "y_test_encoded = to_categorical(y_test, 10)"
   ]
  },
  {
   "cell_type": "code",
   "execution_count": 44,
   "metadata": {},
   "outputs": [
    {
     "data": {
      "text/plain": [
       "Counter({9: 293,\n",
       "         6: 292,\n",
       "         5: 297,\n",
       "         3: 301,\n",
       "         0: 267,\n",
       "         2: 281,\n",
       "         1: 287,\n",
       "         4: 279,\n",
       "         7: 291,\n",
       "         8: 292})"
      ]
     },
     "execution_count": 44,
     "metadata": {},
     "output_type": "execute_result"
    }
   ],
   "source": [
    "import collections\n",
    "collections.Counter(y_train)"
   ]
  },
  {
   "cell_type": "code",
   "execution_count": 45,
   "metadata": {},
   "outputs": [
    {
     "data": {
      "text/plain": [
       "(2880, 120, 160)"
      ]
     },
     "execution_count": 45,
     "metadata": {},
     "output_type": "execute_result"
    }
   ],
   "source": [
    "x_train.shape"
   ]
  },
  {
   "cell_type": "markdown",
   "metadata": {},
   "source": [
    "## <font color='black'> Creating an SVM model</font>"
   ]
  },
  {
   "cell_type": "code",
   "execution_count": 46,
   "metadata": {},
   "outputs": [],
   "source": [
    "def svm_data(x):\n",
    "    height=x.shape[2]\n",
    "    width=x.shape[1]\n",
    "    size=x.shape[0]\n",
    "    x=x.reshape(size,height*width)\n",
    "    #x=x/255\n",
    "    return x"
   ]
  },
  {
   "cell_type": "code",
   "execution_count": 47,
   "metadata": {},
   "outputs": [],
   "source": [
    "x_train_svm=svm_data(x_train)\n",
    "x_test_svm=svm_data(x_test)"
   ]
  },
  {
   "cell_type": "code",
   "execution_count": 48,
   "metadata": {},
   "outputs": [
    {
     "data": {
      "text/plain": [
       "array([[0.59607843, 0.6       , 0.60784314, ..., 0.58823529, 0.58431373,\n",
       "        0.58431373],\n",
       "       [0.80784314, 0.80784314, 0.80784314, ..., 0.39215686, 0.35686275,\n",
       "        0.34117647],\n",
       "       [0.60784314, 0.65098039, 0.65882353, ..., 0.01960784, 0.00392157,\n",
       "        0.01960784],\n",
       "       ...,\n",
       "       [0.43921569, 0.44313725, 0.44705882, ..., 0.1372549 , 0.14117647,\n",
       "        0.14117647],\n",
       "       [0.84313725, 0.84313725, 0.84313725, ..., 0.88627451, 0.89019608,\n",
       "        0.89019608],\n",
       "       [0.65882353, 0.6627451 , 0.6627451 , ..., 0.25490196, 0.25490196,\n",
       "        0.24705882]])"
      ]
     },
     "execution_count": 48,
     "metadata": {},
     "output_type": "execute_result"
    }
   ],
   "source": [
    "x_train_svm"
   ]
  },
  {
   "cell_type": "code",
   "execution_count": 49,
   "metadata": {},
   "outputs": [
    {
     "data": {
      "text/plain": [
       "SVC(gamma=0.001)"
      ]
     },
     "execution_count": 49,
     "metadata": {},
     "output_type": "execute_result"
    }
   ],
   "source": [
    "from sklearn import svm\n",
    "\n",
    "classifier = svm.SVC(gamma=1e-03)\n",
    "#fit to the trainin data\n",
    "classifier.fit(x_train_svm,y_train)"
   ]
  },
  {
   "cell_type": "code",
   "execution_count": 50,
   "metadata": {},
   "outputs": [],
   "source": [
    "y_pred=classifier.predict(x_test_svm)"
   ]
  },
  {
   "cell_type": "code",
   "execution_count": 51,
   "metadata": {},
   "outputs": [
    {
     "name": "stdout",
     "output_type": "stream",
     "text": [
      "[3 8 9 9 0 9 4 9 7 4 6 0 2 0 0 8 8 4 0 5 7 5 2 7 3 1 2 1 8 8 2 1 0 4 8 6 2\n",
      " 2 2 2 8 8 8 0 4 3 2 4 5 8 5 2 0 1 6 8 2 1 0 4 0 7 4 1 0 2 4 4 7 8 2 4 1 4\n",
      " 7 2 8 8 2 4 0 1 3 6 2 4 7 1 6 3 1 0 1 7 9 3 2 1 8 8 5 3 0 9 2 5 7 8 2 0 2\n",
      " 6 0 6 6 5 5 3 5 9 8 9 0 3 4 2 8 0 9 2 6 8 7 8 3 3 9 0 0 5 8 2 8 7 8 2 9 0\n",
      " 0 7 5 9 0 5 8 0 2 1 4 8 8 7 7 2 7 3 6 6 9 8 8 5 3 8 8 4 3 4 8 8 7 4 1 7 2\n",
      " 7 2 9 5 8 6 5 2 2 9 0 3 5 7 2 1 4 8 4 3 8 0 4 9 7 0 2 0 6 0 0 6 7 4 4 1 8\n",
      " 5 5 6 6 8 0 3 5 9 6 8 2 1 2 4 6 4 2 7 9 1 5 6 9 5 6 8 7 8 0 1 0 1 0 0 7 2\n",
      " 4 6 4 1 8 5 9 3 4 5 8 5 8 4 5 8 9 2 7 0 4 9 0 4 8 8 2 9 1 8 9 5 5 4 9 9 9\n",
      " 3 2 4 0 3 0 6 4 5 9 8 9 7 5 3 1 2 3 3 7 6 9 3 7 0 3 4 9 5 7 9 0 0 2 9 1 9\n",
      " 7 0 2 0 1 8 2 6 2 0 8 8 0 1 2 5 6 3 5 6 5 0 0 2 0 2 5 4 2 2 1 2 9 2 9 8 3\n",
      " 6 5 8 3 7 0 5 3 4 3 5 7 2 3 4 4 1 8 8 3 2 8 0 4 7 9 5 8 5 8 0 0 2 8 2 9 2\n",
      " 2 1 1 1 9 4 7 9 7 6 8 5 0 5 0 4 5 3 6 6 2 4 8 3 6 3 9 7 5 2 1 3 2 7 4 3 3\n",
      " 8 1 2 2 9 9 7 0 1 2 7 9 9 7 5 4 4 1 4 8 3 6 1 8 4 6 0 2 1 3 2 0 0 4 2 0 5\n",
      " 1 0 8 7 8 0 6 7 7 5 0 0 3 6 0 9 8 1 5 0 4 8 6 1 3 3 7 0 8 8 6 7 1 6 9 5 8\n",
      " 9 5 4 8 7 2 8 0 0 2 6 8 7 2 4 1 5 7 3 8 4 0 4 8 9 9 1 4 4 2 4 2 4 2 8 2 2\n",
      " 5 0 9 9 8 7 5 0 5 7 5 3 4 9 0 6 6 8 8 8 5 2 9 0 7 1 1 8 5 3 2 1 3 8 5 1 1\n",
      " 8 1 8 5 4 8 3 2 9 5 3 0 3 3 4 3 9 8 6 2 8 7 6 6 1 5 7 1 2 1 2 7 2 1 5 9 3\n",
      " 0 6 9 1 8 7 9 7 2 8 2 6 8 1 6 5 0 4 1 0 5 7 4 5 4 8 9 6 9 6 6 0 5 9 5 6 0\n",
      " 2 6 6 8 7 2 9 2 5 0 4 2 5 8 9 2 5 7 1 5 1 9 0 5 3 1 3 2 8 9 2 9 5 4 6 4 1\n",
      " 7 9 7 6 1 9 6 2 1 9 4 9 7 6 2 8 0]\n"
     ]
    },
    {
     "data": {
      "text/plain": [
       "array([3, 4, 9, 9, 0, 9, 4, 0, 7, 4, 6, 0, 2, 0, 0, 7, 8, 4, 0, 5, 2, 5,\n",
       "       2, 6, 3, 1, 1, 1, 7, 8, 2, 6, 0, 7, 8, 6, 3, 2, 2, 2, 7, 8, 8, 0,\n",
       "       4, 3, 1, 4, 5, 8, 5, 2, 0, 1, 6, 8, 2, 1, 0, 4, 0, 7, 4, 1, 0, 2,\n",
       "       4, 3, 7, 8, 2, 4, 1, 5, 7, 3, 2, 8, 2, 4, 0, 1, 6, 6, 2, 7, 7, 6,\n",
       "       6, 3, 1, 0, 1, 7, 9, 3, 6, 1, 3, 4, 5, 3, 0, 9, 2, 2, 7, 8, 1, 0,\n",
       "       2, 6, 0, 6, 6, 5, 5, 3, 5, 9, 8, 9, 0, 3, 4, 2, 8, 0, 9, 2, 6, 2,\n",
       "       7, 7, 3, 3, 9, 0, 0, 5, 2, 1, 8, 7, 8, 2, 9, 0, 0, 3, 5, 9, 0, 5,\n",
       "       8, 6, 2, 1, 4, 8, 8, 4, 7, 2, 5, 3, 6, 6, 9, 8, 8, 5, 4, 7, 8, 4,\n",
       "       3, 5, 8, 8, 7, 4, 1, 7, 2, 7, 3, 9, 5, 8, 6, 5, 4, 1, 9, 0, 2, 5,\n",
       "       7, 1, 1, 4, 8, 4, 3, 4, 0, 3, 9, 7, 0, 3, 0, 6, 0, 0, 6, 7, 4, 4,\n",
       "       1, 8, 5, 5, 6, 6, 8, 0, 3, 5, 9, 6, 4, 2, 2, 2, 4, 6, 4, 2, 7, 9,\n",
       "       1, 1, 6, 9, 5, 6, 7, 7, 8, 0, 1, 0, 1, 0, 0, 7, 2, 4, 6, 4, 1, 8,\n",
       "       5, 0, 7, 4, 9, 8, 0, 8, 4, 7, 7, 9, 2, 4, 0, 4, 9, 0, 4, 8, 8, 2,\n",
       "       9, 1, 7, 9, 5, 5, 4, 9, 9, 9, 3, 2, 3, 0, 4, 0, 6, 4, 4, 9, 8, 9,\n",
       "       7, 5, 2, 1, 2, 4, 3, 3, 6, 9, 3, 7, 0, 3, 4, 9, 5, 7, 9, 0, 0, 2,\n",
       "       9, 1, 9, 7, 0, 2, 0, 1, 8, 1, 6, 2, 0, 8, 4, 0, 1, 1, 4, 6, 4, 5,\n",
       "       6, 6, 0, 0, 2, 0, 2, 5, 4, 2, 2, 1, 0, 9, 2, 9, 8, 4, 6, 5, 6, 3,\n",
       "       7, 0, 5, 3, 4, 3, 5, 7, 2, 3, 4, 4, 1, 1, 3, 3, 2, 7, 0, 4, 7, 9,\n",
       "       5, 7, 9, 8, 0, 0, 2, 8, 2, 9, 6, 2, 1, 1, 1, 9, 4, 7, 0, 7, 6, 8,\n",
       "       5, 0, 5, 0, 4, 5, 2, 6, 6, 3, 4, 8, 3, 6, 3, 0, 7, 5, 2, 1, 3, 3,\n",
       "       7, 4, 3, 3, 8, 1, 0, 2, 0, 9, 7, 0, 1, 1, 7, 9, 9, 7, 5, 4, 4, 1,\n",
       "       3, 8, 3, 6, 1, 8, 4, 6, 0, 2, 1, 3, 2, 0, 0, 4, 2, 0, 2, 1, 0, 8,\n",
       "       7, 8, 0, 6, 7, 7, 5, 0, 0, 3, 6, 0, 9, 8, 1, 4, 0, 4, 8, 6, 1, 4,\n",
       "       4, 7, 0, 8, 8, 6, 7, 1, 6, 9, 5, 8, 9, 5, 4, 3, 7, 2, 8, 0, 0, 2,\n",
       "       6, 8, 7, 1, 4, 1, 5, 7, 3, 1, 2, 0, 4, 8, 9, 9, 7, 4, 4, 2, 3, 2,\n",
       "       4, 2, 3, 2, 2, 5, 0, 9, 9, 8, 3, 5, 0, 5, 8, 5, 4, 4, 0, 0, 6, 6,\n",
       "       8, 8, 6, 5, 1, 9, 0, 4, 1, 1, 2, 5, 3, 2, 1, 3, 8, 5, 2, 1, 2, 1,\n",
       "       8, 5, 4, 8, 3, 2, 9, 5, 4, 0, 3, 1, 4, 3, 9, 8, 6, 2, 8, 7, 6, 6,\n",
       "       1, 9, 7, 1, 2, 1, 2, 7, 6, 1, 5, 9, 3, 0, 6, 9, 1, 8, 7, 9, 7, 3,\n",
       "       8, 2, 6, 8, 1, 6, 5, 0, 4, 1, 0, 5, 7, 4, 5, 4, 7, 9, 6, 9, 6, 6,\n",
       "       0, 5, 9, 5, 6, 0, 3, 6, 6, 2, 7, 2, 9, 2, 5, 0, 4, 2, 5, 8, 9, 0,\n",
       "       5, 7, 1, 5, 1, 9, 0, 5, 4, 1, 3, 7, 8, 9, 2, 9, 5, 4, 6, 4, 1, 7,\n",
       "       9, 7, 6, 1, 0, 6, 1, 1, 9, 4, 9, 7, 6, 2, 8, 0])"
      ]
     },
     "execution_count": 51,
     "metadata": {},
     "output_type": "execute_result"
    }
   ],
   "source": [
    "print(y_pred)\n",
    "y_test"
   ]
  },
  {
   "cell_type": "code",
   "execution_count": 52,
   "metadata": {},
   "outputs": [
    {
     "name": "stdout",
     "output_type": "stream",
     "text": [
      "Accuracy: 0.8347222222222223\n"
     ]
    }
   ],
   "source": [
    "#Accuracy\n",
    "\n",
    "from sklearn import metrics\n",
    "\n",
    "print(\"Accuracy:\",metrics.accuracy_score(y_test, y_pred))"
   ]
  },
  {
   "cell_type": "code",
   "execution_count": 53,
   "metadata": {},
   "outputs": [
    {
     "name": "stdout",
     "output_type": "stream",
     "text": [
      "Classification report for classifier SVC(gamma=0.001):\n",
      "              precision    recall  f1-score   support\n",
      "\n",
      "           0       0.99      0.88      0.93        93\n",
      "           1       0.92      0.78      0.84        73\n",
      "           2       0.70      0.81      0.75        79\n",
      "           3       0.71      0.66      0.68        59\n",
      "           4       0.86      0.73      0.79        81\n",
      "           5       0.83      0.95      0.89        63\n",
      "           6       1.00      0.84      0.91        68\n",
      "           7       0.84      0.75      0.79        69\n",
      "           8       0.69      0.99      0.81        68\n",
      "           9       0.90      0.96      0.93        67\n",
      "\n",
      "    accuracy                           0.83       720\n",
      "   macro avg       0.84      0.83      0.83       720\n",
      "weighted avg       0.85      0.83      0.84       720\n",
      "\n",
      "\n"
     ]
    }
   ],
   "source": [
    "# Precision and recall\n",
    "\n",
    "print(\"Classification report for classifier %s:\\n%s\\n\"\n",
    "      % (classifier, metrics.classification_report(y_test, y_pred)))"
   ]
  },
  {
   "cell_type": "code",
   "execution_count": 54,
   "metadata": {},
   "outputs": [
    {
     "name": "stdout",
     "output_type": "stream",
     "text": [
      "Confusion matrix:\n",
      "[[82  0  3  0  0  1  0  0  0  7]\n",
      " [ 0 57 12  1  0  1  0  0  2  0]\n",
      " [ 0  2 64  3  1  2  0  1  6  0]\n",
      " [ 0  0  8 39  5  0  0  3  4  0]\n",
      " [ 0  0  1 10 59  3  0  3  5  0]\n",
      " [ 0  0  0  0  2 60  0  1  0  0]\n",
      " [ 1  2  3  1  0  1 57  1  2  0]\n",
      " [ 0  1  1  1  2  1  0 52 11  0]\n",
      " [ 0  0  0  0  0  0  0  1 67  0]\n",
      " [ 0  0  0  0  0  3  0  0  0 64]]\n"
     ]
    }
   ],
   "source": [
    "print(\"Confusion matrix:\\n%s\" % metrics.confusion_matrix(y_test, y_pred))"
   ]
  },
  {
   "cell_type": "code",
   "execution_count": 55,
   "metadata": {},
   "outputs": [
    {
     "data": {
      "text/plain": [
       "Counter({3: 59, 4: 81, 9: 67, 0: 93, 7: 69, 6: 68, 2: 79, 8: 68, 5: 63, 1: 73})"
      ]
     },
     "execution_count": 55,
     "metadata": {},
     "output_type": "execute_result"
    }
   ],
   "source": [
    "collections.Counter(y_test)\n"
   ]
  },
  {
   "cell_type": "markdown",
   "metadata": {},
   "source": [
    "## <font color='black'> Prediction on Test set </font>\n",
    "\n"
   ]
  },
  {
   "cell_type": "code",
   "execution_count": 56,
   "metadata": {},
   "outputs": [],
   "source": [
    "x_final_test=load('test_data.npy')\n",
    "y_final_test=load('test_labels.npy')\n"
   ]
  },
  {
   "cell_type": "code",
   "execution_count": 57,
   "metadata": {},
   "outputs": [
    {
     "data": {
      "text/plain": [
       "array([7, 0, 5, 2, 2, 9, 2, 5, 3, 0, 9, 1, 1, 3, 1, 6, 6, 5, 5, 1, 0, 9,\n",
       "       8, 0, 9, 2, 8, 9, 2, 9, 4, 6, 1, 8, 2, 2, 9, 3, 3, 8, 1, 1, 0, 2,\n",
       "       9, 3, 4, 0, 4, 1, 7, 8, 1, 9, 0, 5, 4, 0, 3, 3, 6, 7, 1, 2, 0, 6,\n",
       "       5, 5, 1, 7, 3, 0, 1, 9, 6, 5, 9, 4, 6, 0, 0, 5, 8, 6, 1, 6, 7, 2,\n",
       "       2, 5, 8, 2, 8, 4, 6, 9, 6, 6, 1, 6, 2, 0, 1, 3, 0, 0, 3, 8, 8, 3,\n",
       "       5, 9, 9, 7, 1, 1, 7, 8, 9, 3, 2, 0, 6, 0, 4, 8, 9, 4, 6, 7, 3, 9,\n",
       "       4, 2, 4, 8, 6, 5, 9, 0, 3, 7, 3, 5, 4, 1, 2, 4, 9, 0, 7, 9, 3, 0,\n",
       "       4, 2, 2, 7, 8, 9, 5, 8, 4, 8, 2, 4, 4, 3, 5, 2, 1, 3, 2, 3, 7, 2,\n",
       "       5, 1, 0, 0, 3, 3, 8, 4, 1, 7, 7, 5, 7, 4, 3, 3, 7, 2, 8, 5, 8, 5,\n",
       "       7, 8, 4, 5, 7, 8, 7, 3, 0, 0, 6, 4, 5, 2, 4, 8, 6, 2, 9, 6, 9, 7,\n",
       "       9, 4, 7, 3, 3, 4, 4, 9, 0, 5, 2, 9, 5, 0, 3, 7, 5, 9, 6, 7, 9, 3,\n",
       "       1, 8, 0, 2, 8, 2, 6, 7, 3, 6, 4, 7, 1, 9, 1, 2, 6, 4, 3, 0, 0, 0,\n",
       "       4, 3, 8, 8, 5, 2, 1, 5, 7, 7, 4, 1, 7, 5, 6, 8, 0, 6, 9, 2, 5, 8,\n",
       "       5, 4, 2, 5, 1, 1, 0, 6, 4, 8, 0, 9, 5, 6, 7, 4, 8, 3, 1, 3, 3, 0,\n",
       "       1, 7, 0, 3, 1, 9, 8, 5, 6, 8, 5, 5, 5, 7, 9, 6, 9, 9, 7, 6, 5, 4,\n",
       "       1, 5, 4, 7, 6, 2, 1, 0, 1, 2, 5, 0, 6, 2, 8, 1, 8, 6, 6, 0, 7, 2,\n",
       "       6, 4, 8, 9, 3, 7, 9, 7, 6, 1, 1, 4, 4, 9, 4, 4, 1, 1, 8, 5, 6, 0,\n",
       "       7, 4, 6, 4, 7, 8, 6, 7, 3, 3, 3, 8, 2, 9, 2, 8, 5, 3, 9, 0, 4, 1,\n",
       "       2, 6, 8, 2])"
      ]
     },
     "execution_count": 57,
     "metadata": {},
     "output_type": "execute_result"
    }
   ],
   "source": [
    "y_final_test"
   ]
  },
  {
   "cell_type": "code",
   "execution_count": 58,
   "metadata": {},
   "outputs": [],
   "source": [
    "x_svm=svm_data(x_final_test)"
   ]
  },
  {
   "cell_type": "code",
   "execution_count": 59,
   "metadata": {},
   "outputs": [],
   "source": [
    "test_pred=classifier.predict(x_svm)"
   ]
  },
  {
   "cell_type": "code",
   "execution_count": 165,
   "metadata": {},
   "outputs": [
    {
     "data": {
      "text/plain": [
       "array([7, 0, 5, 2, 2, 9, 2, 5, 3, 0, 9, 5, 1, 3, 1, 6, 6, 5, 5, 1, 0, 9,\n",
       "       8, 0, 9, 2, 8, 9, 2, 9, 4, 2, 2, 8, 2, 2, 9, 3, 3, 8, 1, 1, 0, 2,\n",
       "       9, 2, 4, 0, 4, 2, 7, 8, 1, 9, 0, 5, 4, 9, 3, 3, 6, 7, 1, 2, 0, 6,\n",
       "       4, 5, 1, 7, 8, 0, 2, 9, 6, 5, 9, 8, 6, 0, 0, 5, 8, 6, 1, 6, 3, 2,\n",
       "       2, 5, 8, 2, 8, 3, 6, 9, 8, 6, 1, 6, 2, 9, 1, 3, 0, 9, 3, 8, 8, 2,\n",
       "       5, 9, 9, 3, 8, 1, 7, 8, 9, 3, 2, 0, 6, 0, 4, 8, 9, 4, 6, 7, 3, 9,\n",
       "       5, 2, 4, 1, 6, 3, 9, 0, 8, 7, 3, 5, 4, 4, 2, 4, 9, 0, 7, 9, 3, 0,\n",
       "       4, 2, 2, 7, 8, 9, 5, 8, 4, 8, 2, 4, 4, 0, 5, 2, 1, 3, 8, 3, 7, 8,\n",
       "       5, 1, 0, 0, 3, 3, 8, 3, 1, 7, 7, 5, 7, 4, 3, 4, 7, 2, 8, 5, 8, 5,\n",
       "       7, 8, 3, 5, 7, 8, 7, 3, 0, 0, 6, 4, 5, 2, 8, 8, 2, 1, 9, 6, 9, 8,\n",
       "       9, 4, 8, 3, 3, 4, 4, 9, 0, 5, 2, 9, 5, 0, 2, 1, 5, 9, 2, 7, 9, 3,\n",
       "       1, 8, 0, 3, 8, 3, 6, 3, 3, 6, 4, 7, 2, 9, 1, 2, 6, 5, 2, 0, 0, 0,\n",
       "       4, 2, 8, 8, 5, 2, 1, 5, 7, 7, 5, 1, 7, 5, 6, 8, 0, 6, 9, 1, 5, 2,\n",
       "       5, 4, 8, 5, 1, 2, 0, 2, 4, 8, 0, 9, 5, 6, 7, 4, 4, 3, 1, 3, 3, 0,\n",
       "       1, 8, 0, 3, 1, 9, 8, 5, 6, 8, 5, 5, 5, 7, 9, 6, 9, 9, 7, 6, 5, 4,\n",
       "       1, 4, 4, 7, 6, 2, 1, 0, 1, 2, 5, 0, 6, 2, 8, 1, 8, 6, 6, 0, 7, 2,\n",
       "       6, 4, 8, 9, 3, 8, 9, 7, 6, 1, 1, 4, 4, 9, 0, 4, 7, 2, 8, 5, 6, 0,\n",
       "       7, 4, 6, 4, 7, 8, 8, 8, 3, 4, 3, 8, 8, 9, 2, 8, 5, 3, 9, 7, 4, 1,\n",
       "       3, 6, 2, 2])"
      ]
     },
     "execution_count": 165,
     "metadata": {},
     "output_type": "execute_result"
    }
   ],
   "source": [
    "test_pred"
   ]
  },
  {
   "cell_type": "code",
   "execution_count": 166,
   "metadata": {},
   "outputs": [
    {
     "data": {
      "text/plain": [
       "array([7, 0, 5, 2, 2, 9, 2, 5, 3, 0, 9, 1, 1, 3, 1, 6, 6, 5, 5, 1, 0, 9,\n",
       "       8, 0, 9, 2, 8, 9, 2, 9, 4, 6, 1, 8, 2, 2, 9, 3, 3, 8, 1, 1, 0, 2,\n",
       "       9, 3, 4, 0, 4, 1, 7, 8, 1, 9, 0, 5, 4, 0, 3, 3, 6, 7, 1, 2, 0, 6,\n",
       "       5, 5, 1, 7, 3, 0, 1, 9, 6, 5, 9, 4, 6, 0, 0, 5, 8, 6, 1, 6, 7, 2,\n",
       "       2, 5, 8, 2, 8, 4, 6, 9, 6, 6, 1, 6, 2, 0, 1, 3, 0, 0, 3, 8, 8, 3,\n",
       "       5, 9, 9, 7, 1, 1, 7, 8, 9, 3, 2, 0, 6, 0, 4, 8, 9, 4, 6, 7, 3, 9,\n",
       "       4, 2, 4, 8, 6, 5, 9, 0, 3, 7, 3, 5, 4, 1, 2, 4, 9, 0, 7, 9, 3, 0,\n",
       "       4, 2, 2, 7, 8, 9, 5, 8, 4, 8, 2, 4, 4, 3, 5, 2, 1, 3, 2, 3, 7, 2,\n",
       "       5, 1, 0, 0, 3, 3, 8, 4, 1, 7, 7, 5, 7, 4, 3, 3, 7, 2, 8, 5, 8, 5,\n",
       "       7, 8, 4, 5, 7, 8, 7, 3, 0, 0, 6, 4, 5, 2, 4, 8, 6, 2, 9, 6, 9, 7,\n",
       "       9, 4, 7, 3, 3, 4, 4, 9, 0, 5, 2, 9, 5, 0, 3, 7, 5, 9, 6, 7, 9, 3,\n",
       "       1, 8, 0, 2, 8, 2, 6, 7, 3, 6, 4, 7, 1, 9, 1, 2, 6, 4, 3, 0, 0, 0,\n",
       "       4, 3, 8, 8, 5, 2, 1, 5, 7, 7, 4, 1, 7, 5, 6, 8, 0, 6, 9, 2, 5, 8,\n",
       "       5, 4, 2, 5, 1, 1, 0, 6, 4, 8, 0, 9, 5, 6, 7, 4, 8, 3, 1, 3, 3, 0,\n",
       "       1, 7, 0, 3, 1, 9, 8, 5, 6, 8, 5, 5, 5, 7, 9, 6, 9, 9, 7, 6, 5, 4,\n",
       "       1, 5, 4, 7, 6, 2, 1, 0, 1, 2, 5, 0, 6, 2, 8, 1, 8, 6, 6, 0, 7, 2,\n",
       "       6, 4, 8, 9, 3, 7, 9, 7, 6, 1, 1, 4, 4, 9, 4, 4, 1, 1, 8, 5, 6, 0,\n",
       "       7, 4, 6, 4, 7, 8, 6, 7, 3, 3, 3, 8, 2, 9, 2, 8, 5, 3, 9, 0, 4, 1,\n",
       "       2, 6, 8, 2])"
      ]
     },
     "execution_count": 166,
     "metadata": {},
     "output_type": "execute_result"
    }
   ],
   "source": [
    "y_final_test"
   ]
  },
  {
   "cell_type": "code",
   "execution_count": 167,
   "metadata": {},
   "outputs": [
    {
     "name": "stdout",
     "output_type": "stream",
     "text": [
      "Accuracy: 0.84\n"
     ]
    }
   ],
   "source": [
    "#Accuracy\n",
    "\n",
    "from sklearn import metrics\n",
    "\n",
    "print(\"Accuracy:\",metrics.accuracy_score(y_final_test, test_pred))"
   ]
  },
  {
   "cell_type": "code",
   "execution_count": 168,
   "metadata": {},
   "outputs": [
    {
     "name": "stdout",
     "output_type": "stream",
     "text": [
      "Classification report for classifier SVC(gamma=0.001):\n",
      "              precision    recall  f1-score   support\n",
      "\n",
      "           0       0.95      0.90      0.92        40\n",
      "           1       0.88      0.75      0.81        40\n",
      "           2       0.65      0.78      0.70        40\n",
      "           3       0.75      0.75      0.75        40\n",
      "           4       0.84      0.78      0.81        41\n",
      "           5       0.90      0.93      0.91        40\n",
      "           6       1.00      0.85      0.92        40\n",
      "           7       0.94      0.77      0.85        39\n",
      "           8       0.69      0.90      0.78        40\n",
      "           9       0.93      1.00      0.96        40\n",
      "\n",
      "    accuracy                           0.84       400\n",
      "   macro avg       0.85      0.84      0.84       400\n",
      "weighted avg       0.85      0.84      0.84       400\n",
      "\n",
      "\n"
     ]
    }
   ],
   "source": [
    "# Precision and recall\n",
    "\n",
    "print(\"Classification report for classifier %s:\\n%s\\n\"\n",
    "      % (classifier, metrics.classification_report(y_final_test, test_pred)))"
   ]
  },
  {
   "cell_type": "code",
   "execution_count": 169,
   "metadata": {},
   "outputs": [
    {
     "data": {
      "text/plain": [
       "Counter({7: 39, 0: 40, 5: 40, 2: 40, 9: 40, 3: 40, 1: 40, 6: 40, 8: 40, 4: 41})"
      ]
     },
     "execution_count": 169,
     "metadata": {},
     "output_type": "execute_result"
    }
   ],
   "source": [
    "collections.Counter(y_final_test)"
   ]
  },
  {
   "cell_type": "code",
   "execution_count": 170,
   "metadata": {},
   "outputs": [
    {
     "name": "stdout",
     "output_type": "stream",
     "text": [
      "Confusion matrix:\n",
      "[[36  0  0  0  0  0  0  1  0  3]\n",
      " [ 0 30  6  0  1  1  0  1  1  0]\n",
      " [ 0  2 31  3  0  0  0  0  4  0]\n",
      " [ 1  0  5 30  2  0  0  0  2  0]\n",
      " [ 1  0  0  3 32  3  0  0  2  0]\n",
      " [ 0  0  0  1  2 37  0  0  0  0]\n",
      " [ 0  0  4  0  0  0 34  0  2  0]\n",
      " [ 0  1  0  3  0  0  0 30  5  0]\n",
      " [ 0  1  2  0  1  0  0  0 36  0]\n",
      " [ 0  0  0  0  0  0  0  0  0 40]]\n"
     ]
    }
   ],
   "source": [
    "print(\"Confusion matrix:\\n%s\" % metrics.confusion_matrix(y_final_test, test_pred))"
   ]
  },
  {
   "cell_type": "markdown",
   "metadata": {},
   "source": [
    "## <font color='black'> Running a kNN </font>"
   ]
  },
  {
   "cell_type": "code",
   "execution_count": 56,
   "metadata": {},
   "outputs": [],
   "source": [
    "from sklearn.neighbors import KNeighborsClassifier\n",
    "\n",
    "kNN = KNeighborsClassifier(n_neighbors=10)"
   ]
  },
  {
   "cell_type": "code",
   "execution_count": 57,
   "metadata": {},
   "outputs": [
    {
     "data": {
      "text/plain": [
       "KNeighborsClassifier(n_neighbors=10)"
      ]
     },
     "execution_count": 57,
     "metadata": {},
     "output_type": "execute_result"
    }
   ],
   "source": [
    "kNN.fit(x_train_svm,y_train)"
   ]
  },
  {
   "cell_type": "code",
   "execution_count": 58,
   "metadata": {},
   "outputs": [
    {
     "data": {
      "text/plain": [
       "(720, 19200)"
      ]
     },
     "execution_count": 58,
     "metadata": {},
     "output_type": "execute_result"
    }
   ],
   "source": [
    "x_test_svm.shape"
   ]
  },
  {
   "cell_type": "code",
   "execution_count": 59,
   "metadata": {},
   "outputs": [],
   "source": [
    "pred=kNN.predict(x_test_svm)"
   ]
  },
  {
   "cell_type": "code",
   "execution_count": 60,
   "metadata": {},
   "outputs": [
    {
     "name": "stdout",
     "output_type": "stream",
     "text": [
      "Accuracy: 0.8166666666666667\n"
     ]
    }
   ],
   "source": [
    "print(\"Accuracy:\",metrics.accuracy_score(y_test, pred))"
   ]
  },
  {
   "cell_type": "code",
   "execution_count": 61,
   "metadata": {},
   "outputs": [],
   "source": [
    "pred_test=kNN.predict(x_svm)"
   ]
  },
  {
   "cell_type": "code",
   "execution_count": 62,
   "metadata": {},
   "outputs": [
    {
     "name": "stdout",
     "output_type": "stream",
     "text": [
      "Accuracy for validation set: 0.8166666666666667\n",
      "Accuracy for test set: 0.85\n"
     ]
    }
   ],
   "source": [
    "print(\"Accuracy for validation set:\",metrics.accuracy_score(y_test, pred))\n",
    "print(\"Accuracy for test set:\",metrics.accuracy_score(y_final_test, pred_test))"
   ]
  },
  {
   "cell_type": "markdown",
   "metadata": {},
   "source": [
    "## <font color='black'> Random Forest Classifier </font>"
   ]
  },
  {
   "cell_type": "code",
   "execution_count": 65,
   "metadata": {},
   "outputs": [
    {
     "data": {
      "text/plain": [
       "RandomForestClassifier(criterion='entropy', n_estimators=10, random_state=42)"
      ]
     },
     "execution_count": 65,
     "metadata": {},
     "output_type": "execute_result"
    }
   ],
   "source": [
    "# Fitting Random Forest Classification to the Training set\n",
    "from sklearn.ensemble import RandomForestClassifier\n",
    "\n",
    "classifier = RandomForestClassifier(n_estimators = 10, criterion = 'entropy', random_state = 42)\n",
    "classifier.fit(x_train_svm, y_train)"
   ]
  },
  {
   "cell_type": "code",
   "execution_count": 66,
   "metadata": {},
   "outputs": [],
   "source": [
    "y_pred=classifier.predict(x_test_svm)"
   ]
  },
  {
   "cell_type": "code",
   "execution_count": 67,
   "metadata": {},
   "outputs": [
    {
     "data": {
      "text/plain": [
       "array([3, 4, 9, 9, 0, 9, 4, 0, 7, 4, 6, 0, 3, 0, 0, 7, 8, 4, 0, 5, 2, 5,\n",
       "       2, 6, 3, 1, 3, 1, 7, 8, 2, 6, 0, 6, 5, 6, 3, 2, 2, 2, 7, 8, 8, 0,\n",
       "       4, 3, 1, 4, 5, 8, 5, 2, 0, 1, 6, 8, 2, 1, 0, 4, 0, 7, 4, 1, 0, 2,\n",
       "       4, 3, 7, 8, 4, 4, 1, 5, 7, 3, 2, 8, 2, 4, 0, 1, 6, 6, 2, 3, 7, 5,\n",
       "       6, 3, 1, 0, 1, 7, 9, 3, 7, 1, 3, 4, 5, 3, 0, 9, 2, 2, 7, 8, 2, 0,\n",
       "       2, 6, 0, 6, 6, 5, 5, 3, 5, 9, 8, 9, 0, 3, 4, 2, 8, 0, 9, 2, 6, 2,\n",
       "       7, 7, 3, 3, 9, 0, 0, 5, 2, 1, 8, 7, 8, 2, 9, 0, 0, 3, 5, 9, 0, 5,\n",
       "       8, 0, 2, 1, 4, 8, 8, 7, 7, 2, 5, 3, 6, 6, 9, 8, 8, 5, 0, 7, 8, 4,\n",
       "       3, 5, 8, 8, 7, 4, 1, 6, 3, 7, 3, 9, 5, 8, 6, 5, 2, 1, 9, 0, 2, 5,\n",
       "       7, 1, 1, 4, 8, 4, 3, 4, 0, 3, 9, 7, 0, 3, 0, 6, 0, 0, 6, 7, 4, 4,\n",
       "       1, 8, 5, 5, 6, 4, 8, 0, 3, 5, 9, 6, 4, 2, 1, 2, 4, 6, 4, 2, 7, 9,\n",
       "       1, 1, 6, 9, 5, 6, 7, 7, 8, 0, 1, 0, 1, 0, 0, 7, 2, 1, 6, 4, 1, 8,\n",
       "       5, 9, 7, 4, 1, 8, 0, 8, 4, 7, 7, 9, 2, 4, 0, 4, 9, 0, 1, 8, 8, 2,\n",
       "       9, 1, 7, 9, 5, 5, 4, 9, 1, 9, 3, 2, 3, 0, 2, 0, 6, 4, 4, 9, 8, 9,\n",
       "       7, 5, 3, 1, 2, 4, 3, 3, 6, 9, 3, 7, 0, 3, 4, 9, 5, 7, 9, 0, 0, 2,\n",
       "       9, 1, 9, 8, 0, 2, 0, 1, 8, 0, 6, 2, 0, 8, 4, 0, 1, 2, 4, 6, 3, 5,\n",
       "       6, 6, 0, 0, 2, 0, 2, 5, 4, 2, 2, 1, 1, 9, 2, 9, 8, 3, 6, 5, 6, 3,\n",
       "       7, 0, 5, 3, 4, 3, 5, 7, 2, 3, 3, 4, 1, 1, 3, 3, 2, 7, 0, 8, 7, 9,\n",
       "       5, 7, 9, 8, 0, 0, 2, 7, 2, 9, 5, 2, 1, 1, 1, 9, 4, 7, 8, 6, 6, 7,\n",
       "       5, 0, 5, 0, 4, 5, 3, 6, 6, 3, 4, 8, 3, 6, 3, 0, 7, 4, 2, 1, 3, 3,\n",
       "       7, 4, 3, 3, 8, 1, 0, 2, 0, 9, 7, 0, 1, 2, 7, 9, 9, 7, 5, 4, 4, 1,\n",
       "       4, 8, 3, 6, 1, 8, 4, 6, 0, 2, 1, 3, 2, 0, 0, 4, 2, 0, 2, 1, 0, 8,\n",
       "       7, 8, 0, 6, 7, 7, 5, 0, 0, 3, 6, 0, 9, 8, 1, 7, 0, 4, 8, 6, 1, 4,\n",
       "       4, 7, 0, 8, 7, 6, 7, 1, 6, 9, 5, 8, 9, 5, 4, 3, 7, 2, 8, 0, 0, 2,\n",
       "       3, 8, 7, 1, 4, 1, 5, 7, 3, 1, 4, 0, 4, 8, 9, 9, 1, 4, 4, 2, 5, 2,\n",
       "       4, 2, 3, 2, 2, 5, 0, 9, 9, 8, 3, 5, 0, 5, 8, 5, 4, 4, 0, 0, 6, 6,\n",
       "       8, 8, 6, 5, 2, 9, 0, 7, 1, 1, 2, 5, 3, 2, 1, 3, 8, 5, 7, 1, 8, 1,\n",
       "       8, 5, 4, 8, 4, 2, 9, 5, 3, 0, 3, 3, 4, 3, 9, 8, 6, 2, 8, 7, 6, 6,\n",
       "       1, 5, 7, 1, 2, 1, 2, 7, 2, 1, 5, 9, 3, 0, 6, 9, 1, 8, 7, 9, 7, 3,\n",
       "       8, 2, 6, 8, 1, 6, 5, 0, 4, 1, 0, 5, 6, 4, 5, 4, 8, 9, 6, 9, 3, 6,\n",
       "       0, 5, 9, 5, 6, 0, 1, 6, 6, 2, 7, 2, 9, 2, 5, 0, 4, 2, 5, 8, 9, 0,\n",
       "       5, 7, 1, 5, 1, 9, 0, 5, 3, 1, 3, 8, 8, 9, 2, 9, 5, 4, 7, 4, 1, 7,\n",
       "       9, 7, 6, 1, 0, 6, 2, 1, 9, 4, 9, 7, 6, 2, 8, 0])"
      ]
     },
     "execution_count": 67,
     "metadata": {},
     "output_type": "execute_result"
    }
   ],
   "source": [
    "y_pred"
   ]
  },
  {
   "cell_type": "code",
   "execution_count": 68,
   "metadata": {},
   "outputs": [
    {
     "data": {
      "text/plain": [
       "array([3, 4, 9, 9, 0, 9, 4, 0, 7, 4, 6, 0, 2, 0, 0, 7, 8, 4, 0, 5, 2, 5,\n",
       "       2, 6, 3, 1, 1, 1, 7, 8, 2, 6, 0, 7, 8, 6, 3, 2, 2, 2, 7, 8, 8, 0,\n",
       "       4, 3, 1, 4, 5, 8, 5, 2, 0, 1, 6, 8, 2, 1, 0, 4, 0, 7, 4, 1, 0, 2,\n",
       "       4, 3, 7, 8, 2, 4, 1, 5, 7, 3, 2, 8, 2, 4, 0, 1, 6, 6, 2, 7, 7, 6,\n",
       "       6, 3, 1, 0, 1, 7, 9, 3, 6, 1, 3, 4, 5, 3, 0, 9, 2, 2, 7, 8, 1, 0,\n",
       "       2, 6, 0, 6, 6, 5, 5, 3, 5, 9, 8, 9, 0, 3, 4, 2, 8, 0, 9, 2, 6, 2,\n",
       "       7, 7, 3, 3, 9, 0, 0, 5, 2, 1, 8, 7, 8, 2, 9, 0, 0, 3, 5, 9, 0, 5,\n",
       "       8, 6, 2, 1, 4, 8, 8, 4, 7, 2, 5, 3, 6, 6, 9, 8, 8, 5, 4, 7, 8, 4,\n",
       "       3, 5, 8, 8, 7, 4, 1, 7, 2, 7, 3, 9, 5, 8, 6, 5, 4, 1, 9, 0, 2, 5,\n",
       "       7, 1, 1, 4, 8, 4, 3, 4, 0, 3, 9, 7, 0, 3, 0, 6, 0, 0, 6, 7, 4, 4,\n",
       "       1, 8, 5, 5, 6, 6, 8, 0, 3, 5, 9, 6, 4, 2, 2, 2, 4, 6, 4, 2, 7, 9,\n",
       "       1, 1, 6, 9, 5, 6, 7, 7, 8, 0, 1, 0, 1, 0, 0, 7, 2, 4, 6, 4, 1, 8,\n",
       "       5, 0, 7, 4, 9, 8, 0, 8, 4, 7, 7, 9, 2, 4, 0, 4, 9, 0, 4, 8, 8, 2,\n",
       "       9, 1, 7, 9, 5, 5, 4, 9, 9, 9, 3, 2, 3, 0, 4, 0, 6, 4, 4, 9, 8, 9,\n",
       "       7, 5, 2, 1, 2, 4, 3, 3, 6, 9, 3, 7, 0, 3, 4, 9, 5, 7, 9, 0, 0, 2,\n",
       "       9, 1, 9, 7, 0, 2, 0, 1, 8, 1, 6, 2, 0, 8, 4, 0, 1, 1, 4, 6, 4, 5,\n",
       "       6, 6, 0, 0, 2, 0, 2, 5, 4, 2, 2, 1, 0, 9, 2, 9, 8, 4, 6, 5, 6, 3,\n",
       "       7, 0, 5, 3, 4, 3, 5, 7, 2, 3, 4, 4, 1, 1, 3, 3, 2, 7, 0, 4, 7, 9,\n",
       "       5, 7, 9, 8, 0, 0, 2, 8, 2, 9, 6, 2, 1, 1, 1, 9, 4, 7, 0, 7, 6, 8,\n",
       "       5, 0, 5, 0, 4, 5, 2, 6, 6, 3, 4, 8, 3, 6, 3, 0, 7, 5, 2, 1, 3, 3,\n",
       "       7, 4, 3, 3, 8, 1, 0, 2, 0, 9, 7, 0, 1, 1, 7, 9, 9, 7, 5, 4, 4, 1,\n",
       "       3, 8, 3, 6, 1, 8, 4, 6, 0, 2, 1, 3, 2, 0, 0, 4, 2, 0, 2, 1, 0, 8,\n",
       "       7, 8, 0, 6, 7, 7, 5, 0, 0, 3, 6, 0, 9, 8, 1, 4, 0, 4, 8, 6, 1, 4,\n",
       "       4, 7, 0, 8, 8, 6, 7, 1, 6, 9, 5, 8, 9, 5, 4, 3, 7, 2, 8, 0, 0, 2,\n",
       "       6, 8, 7, 1, 4, 1, 5, 7, 3, 1, 2, 0, 4, 8, 9, 9, 7, 4, 4, 2, 3, 2,\n",
       "       4, 2, 3, 2, 2, 5, 0, 9, 9, 8, 3, 5, 0, 5, 8, 5, 4, 4, 0, 0, 6, 6,\n",
       "       8, 8, 6, 5, 1, 9, 0, 4, 1, 1, 2, 5, 3, 2, 1, 3, 8, 5, 2, 1, 2, 1,\n",
       "       8, 5, 4, 8, 3, 2, 9, 5, 4, 0, 3, 1, 4, 3, 9, 8, 6, 2, 8, 7, 6, 6,\n",
       "       1, 9, 7, 1, 2, 1, 2, 7, 6, 1, 5, 9, 3, 0, 6, 9, 1, 8, 7, 9, 7, 3,\n",
       "       8, 2, 6, 8, 1, 6, 5, 0, 4, 1, 0, 5, 7, 4, 5, 4, 7, 9, 6, 9, 6, 6,\n",
       "       0, 5, 9, 5, 6, 0, 3, 6, 6, 2, 7, 2, 9, 2, 5, 0, 4, 2, 5, 8, 9, 0,\n",
       "       5, 7, 1, 5, 1, 9, 0, 5, 4, 1, 3, 7, 8, 9, 2, 9, 5, 4, 6, 4, 1, 7,\n",
       "       9, 7, 6, 1, 0, 6, 1, 1, 9, 4, 9, 7, 6, 2, 8, 0])"
      ]
     },
     "execution_count": 68,
     "metadata": {},
     "output_type": "execute_result"
    }
   ],
   "source": [
    "y_test"
   ]
  },
  {
   "cell_type": "code",
   "execution_count": 70,
   "metadata": {},
   "outputs": [
    {
     "name": "stdout",
     "output_type": "stream",
     "text": [
      "Accuracy: 0.9111111111111111\n"
     ]
    }
   ],
   "source": [
    "#Accuracy\n",
    "\n",
    "from sklearn import metrics\n",
    "\n",
    "print(\"Accuracy:\",metrics.accuracy_score(y_test, y_pred))"
   ]
  },
  {
   "cell_type": "code",
   "execution_count": 71,
   "metadata": {},
   "outputs": [],
   "source": [
    "test_pred=classifier.predict(x_svm)"
   ]
  },
  {
   "cell_type": "code",
   "execution_count": 72,
   "metadata": {},
   "outputs": [
    {
     "name": "stdout",
     "output_type": "stream",
     "text": [
      "Accuracy: 0.93\n"
     ]
    }
   ],
   "source": [
    "#Accuracy\n",
    "\n",
    "from sklearn import metrics\n",
    "\n",
    "print(\"Accuracy:\",metrics.accuracy_score(y_final_test, test_pred))"
   ]
  },
  {
   "cell_type": "markdown",
   "metadata": {},
   "source": [
    "## <font color='black'> Logistic Regression </font>"
   ]
  },
  {
   "cell_type": "code",
   "execution_count": 73,
   "metadata": {},
   "outputs": [
    {
     "name": "stderr",
     "output_type": "stream",
     "text": [
      "C:\\Users\\User\\Anaconda3\\lib\\site-packages\\sklearn\\linear_model\\_logistic.py:765: ConvergenceWarning: lbfgs failed to converge (status=1):\n",
      "STOP: TOTAL NO. of ITERATIONS REACHED LIMIT.\n",
      "\n",
      "Increase the number of iterations (max_iter) or scale the data as shown in:\n",
      "    https://scikit-learn.org/stable/modules/preprocessing.html\n",
      "Please also refer to the documentation for alternative solver options:\n",
      "    https://scikit-learn.org/stable/modules/linear_model.html#logistic-regression\n",
      "  extra_warning_msg=_LOGISTIC_SOLVER_CONVERGENCE_MSG)\n"
     ]
    },
    {
     "data": {
      "text/plain": [
       "LogisticRegression()"
      ]
     },
     "execution_count": 73,
     "metadata": {},
     "output_type": "execute_result"
    }
   ],
   "source": [
    "from sklearn.linear_model import LogisticRegression\n",
    "\n",
    "# instantiate the model (using the default parameters)\n",
    "logreg = LogisticRegression()\n",
    "\n",
    "# fit the model with data\n",
    "logreg.fit(x_train_svm,y_train)\n"
   ]
  },
  {
   "cell_type": "code",
   "execution_count": 86,
   "metadata": {},
   "outputs": [],
   "source": [
    "y_pred=logreg.predict(x_test_svm)"
   ]
  },
  {
   "cell_type": "code",
   "execution_count": 87,
   "metadata": {},
   "outputs": [
    {
     "data": {
      "text/plain": [
       "array([3, 4, 9, 9, 0, 9, 4, 5, 7, 5, 3, 0, 2, 1, 0, 6, 8, 4, 0, 5, 8, 5,\n",
       "       2, 6, 0, 1, 7, 1, 8, 6, 2, 6, 0, 4, 8, 6, 1, 2, 2, 2, 8, 3, 8, 0,\n",
       "       4, 3, 1, 4, 5, 8, 5, 3, 0, 1, 6, 8, 3, 1, 3, 4, 0, 7, 4, 1, 0, 2,\n",
       "       4, 4, 7, 8, 4, 4, 1, 4, 7, 3, 1, 8, 6, 5, 0, 1, 6, 6, 2, 4, 7, 3,\n",
       "       6, 3, 1, 0, 7, 7, 9, 3, 6, 1, 8, 6, 5, 5, 0, 9, 2, 5, 7, 8, 3, 0,\n",
       "       5, 6, 0, 6, 6, 5, 5, 3, 5, 5, 8, 9, 0, 3, 7, 2, 3, 0, 9, 2, 6, 8,\n",
       "       7, 8, 3, 3, 9, 0, 0, 5, 2, 2, 8, 7, 8, 2, 9, 0, 0, 7, 5, 9, 0, 5,\n",
       "       8, 5, 2, 7, 4, 8, 8, 8, 7, 2, 8, 3, 6, 6, 9, 8, 8, 5, 3, 6, 8, 4,\n",
       "       3, 4, 8, 8, 7, 4, 6, 7, 2, 6, 2, 9, 5, 8, 6, 5, 2, 1, 9, 7, 2, 5,\n",
       "       7, 1, 1, 4, 8, 4, 8, 4, 8, 3, 9, 8, 0, 1, 0, 1, 1, 0, 6, 7, 4, 4,\n",
       "       1, 8, 5, 5, 6, 4, 8, 5, 3, 5, 9, 6, 8, 2, 2, 2, 4, 6, 4, 2, 7, 9,\n",
       "       1, 5, 6, 9, 5, 6, 6, 7, 8, 0, 6, 0, 1, 0, 0, 7, 2, 4, 6, 4, 1, 8,\n",
       "       5, 9, 3, 4, 5, 8, 5, 3, 4, 5, 8, 9, 2, 4, 5, 4, 9, 0, 4, 8, 8, 1,\n",
       "       9, 1, 8, 2, 5, 5, 4, 9, 9, 9, 3, 2, 4, 0, 3, 0, 6, 4, 5, 9, 8, 9,\n",
       "       7, 5, 3, 1, 2, 3, 0, 7, 6, 9, 3, 7, 0, 3, 4, 9, 5, 7, 5, 0, 0, 2,\n",
       "       9, 1, 9, 7, 0, 1, 0, 1, 8, 2, 6, 2, 0, 8, 8, 0, 1, 1, 5, 6, 3, 5,\n",
       "       6, 5, 0, 3, 2, 3, 2, 5, 4, 2, 2, 1, 1, 9, 2, 9, 8, 3, 6, 5, 6, 2,\n",
       "       7, 0, 5, 3, 5, 3, 5, 7, 2, 3, 4, 4, 1, 2, 6, 5, 2, 7, 0, 4, 7, 9,\n",
       "       5, 3, 0, 8, 0, 0, 2, 8, 2, 9, 1, 2, 1, 7, 1, 9, 4, 7, 9, 7, 6, 8,\n",
       "       5, 0, 5, 0, 3, 5, 2, 6, 6, 3, 4, 8, 3, 6, 3, 9, 7, 5, 2, 1, 3, 2,\n",
       "       7, 4, 3, 3, 8, 1, 1, 2, 9, 9, 7, 3, 1, 2, 7, 9, 0, 7, 5, 4, 4, 1,\n",
       "       4, 8, 3, 6, 1, 3, 4, 6, 0, 2, 4, 3, 2, 1, 0, 4, 2, 0, 5, 1, 3, 8,\n",
       "       7, 8, 0, 6, 7, 7, 5, 0, 0, 3, 6, 9, 9, 8, 1, 5, 0, 4, 8, 6, 8, 5,\n",
       "       5, 7, 0, 8, 8, 6, 7, 1, 6, 9, 5, 8, 9, 5, 4, 3, 7, 2, 8, 0, 0, 2,\n",
       "       6, 8, 7, 1, 4, 1, 5, 7, 3, 5, 7, 0, 4, 8, 9, 9, 3, 4, 4, 2, 3, 3,\n",
       "       4, 2, 4, 2, 2, 5, 0, 9, 9, 8, 8, 5, 0, 5, 7, 5, 8, 4, 0, 0, 6, 6,\n",
       "       8, 8, 8, 5, 1, 9, 0, 1, 1, 1, 8, 5, 3, 2, 1, 3, 8, 5, 2, 5, 8, 1,\n",
       "       8, 5, 4, 8, 4, 2, 9, 5, 0, 0, 3, 8, 4, 3, 9, 8, 6, 2, 7, 7, 6, 6,\n",
       "       2, 4, 7, 1, 2, 2, 2, 7, 6, 3, 5, 9, 3, 0, 6, 9, 1, 8, 4, 9, 3, 2,\n",
       "       8, 2, 6, 8, 1, 6, 5, 0, 4, 1, 0, 5, 7, 4, 5, 4, 3, 9, 6, 9, 6, 6,\n",
       "       0, 8, 9, 5, 6, 7, 2, 6, 6, 2, 7, 2, 9, 2, 5, 3, 4, 2, 5, 8, 9, 6,\n",
       "       5, 7, 1, 5, 1, 9, 0, 5, 4, 1, 3, 6, 8, 9, 2, 9, 1, 4, 6, 4, 1, 1,\n",
       "       3, 7, 6, 2, 9, 6, 1, 1, 9, 4, 9, 7, 6, 1, 8, 0])"
      ]
     },
     "execution_count": 87,
     "metadata": {},
     "output_type": "execute_result"
    }
   ],
   "source": [
    "y_pred"
   ]
  },
  {
   "cell_type": "code",
   "execution_count": 88,
   "metadata": {},
   "outputs": [
    {
     "name": "stdout",
     "output_type": "stream",
     "text": [
      "Accuracy: 0.7805555555555556\n"
     ]
    }
   ],
   "source": [
    "#Accuracy\n",
    "\n",
    "from sklearn import metrics\n",
    "\n",
    "print(\"Accuracy:\",metrics.accuracy_score(y_test, y_pred))"
   ]
  },
  {
   "cell_type": "code",
   "execution_count": 89,
   "metadata": {},
   "outputs": [],
   "source": [
    "test_pred=logreg.predict(x_svm)"
   ]
  },
  {
   "cell_type": "code",
   "execution_count": 90,
   "metadata": {},
   "outputs": [
    {
     "name": "stdout",
     "output_type": "stream",
     "text": [
      "Accuracy: 0.8125\n"
     ]
    }
   ],
   "source": [
    "#Accuracy\n",
    "\n",
    "from sklearn import metrics\n",
    "\n",
    "print(\"Accuracy:\",metrics.accuracy_score(y_final_test, test_pred))"
   ]
  },
  {
   "cell_type": "code",
   "execution_count": null,
   "metadata": {},
   "outputs": [],
   "source": []
  },
  {
   "cell_type": "markdown",
   "metadata": {},
   "source": [
    "## <font color='black'> CNN </font>"
   ]
  },
  {
   "cell_type": "code",
   "execution_count": 15,
   "metadata": {},
   "outputs": [],
   "source": [
    "x_train= x_train[..., np.newaxis]\n",
    "x_test=x_test[..., np.newaxis]"
   ]
  },
  {
   "cell_type": "code",
   "execution_count": 16,
   "metadata": {},
   "outputs": [
    {
     "data": {
      "text/plain": [
       "(2880, 120, 160, 1)"
      ]
     },
     "execution_count": 16,
     "metadata": {},
     "output_type": "execute_result"
    }
   ],
   "source": [
    "x_train.shape"
   ]
  },
  {
   "cell_type": "code",
   "execution_count": 17,
   "metadata": {},
   "outputs": [
    {
     "data": {
      "text/plain": [
       "(720, 120, 160, 1)"
      ]
     },
     "execution_count": 17,
     "metadata": {},
     "output_type": "execute_result"
    }
   ],
   "source": [
    "x_test.shape"
   ]
  },
  {
   "cell_type": "code",
   "execution_count": 26,
   "metadata": {},
   "outputs": [],
   "source": [
    "model = Sequential()\n",
    "model.add(Conv2D(filters=32, kernel_size=(5,5), activation=\"relu\", input_shape=(120,160,1)))\n",
    "model.add(Conv2D(filters=32, kernel_size=(5,5), activation=\"relu\"))\n",
    "model.add(MaxPool2D(pool_size=(2,2)))\n",
    "model.add(Dropout(rate=0.25))\n",
    "model.add(Conv2D(filters=64, kernel_size=(3,3), activation=\"relu\"))\n",
    "model.add(Conv2D(filters=64, kernel_size=(3,3), activation=\"relu\"))\n",
    "model.add(MaxPool2D(pool_size=(2,2)))\n",
    "model.add(Dropout(rate=0.25))\n",
    "model.add(Flatten())\n",
    "model.add(Dense(256, activation=\"relu\"))\n",
    "model.add(Dropout(rate=0.5))\n",
    "model.add(Dense(10, activation=\"softmax\"))"
   ]
  },
  {
   "cell_type": "code",
   "execution_count": 31,
   "metadata": {},
   "outputs": [
    {
     "name": "stdout",
     "output_type": "stream",
     "text": [
      "Model: \"sequential_3\"\n",
      "_________________________________________________________________\n",
      "Layer (type)                 Output Shape              Param #   \n",
      "=================================================================\n",
      "module_wrapper_36 (ModuleWra (None, 116, 156, 32)      832       \n",
      "_________________________________________________________________\n",
      "module_wrapper_37 (ModuleWra (None, 112, 152, 32)      25632     \n",
      "_________________________________________________________________\n",
      "module_wrapper_38 (ModuleWra (None, 56, 76, 32)        0         \n",
      "_________________________________________________________________\n",
      "module_wrapper_39 (ModuleWra (None, 56, 76, 32)        0         \n",
      "_________________________________________________________________\n",
      "module_wrapper_40 (ModuleWra (None, 54, 74, 64)        18496     \n",
      "_________________________________________________________________\n",
      "module_wrapper_41 (ModuleWra (None, 52, 72, 64)        36928     \n",
      "_________________________________________________________________\n",
      "module_wrapper_42 (ModuleWra (None, 26, 36, 64)        0         \n",
      "_________________________________________________________________\n",
      "module_wrapper_43 (ModuleWra (None, 26, 36, 64)        0         \n",
      "_________________________________________________________________\n",
      "module_wrapper_44 (ModuleWra (None, 59904)             0         \n",
      "_________________________________________________________________\n",
      "module_wrapper_45 (ModuleWra (None, 256)               15335680  \n",
      "_________________________________________________________________\n",
      "module_wrapper_46 (ModuleWra (None, 256)               0         \n",
      "_________________________________________________________________\n",
      "module_wrapper_47 (ModuleWra (None, 10)                2570      \n",
      "=================================================================\n",
      "Total params: 15,420,138\n",
      "Trainable params: 15,420,138\n",
      "Non-trainable params: 0\n",
      "_________________________________________________________________\n"
     ]
    }
   ],
   "source": [
    "model.summary()"
   ]
  },
  {
   "cell_type": "code",
   "execution_count": 28,
   "metadata": {},
   "outputs": [],
   "source": [
    "model.compile(optimizer='adam', loss='categorical_crossentropy', metrics=['accuracy'])"
   ]
  },
  {
   "cell_type": "code",
   "execution_count": 29,
   "metadata": {},
   "outputs": [],
   "source": [
    "# Hot Encoding \n",
    "\n",
    "y_train_encoded = to_categorical(y_train, 10)\n",
    "y_test_encoded = to_categorical(y_test, 10)"
   ]
  },
  {
   "cell_type": "code",
   "execution_count": 30,
   "metadata": {},
   "outputs": [
    {
     "name": "stdout",
     "output_type": "stream",
     "text": [
      "Epoch 1/10\n",
      "45/45 [==============================] - ETA: 4:05 - loss: 2.2976 - accuracy: 0.20 - ETA: 3:29 - loss: 5.3108 - accuracy: 0.12 - ETA: 3:32 - loss: 4.8326 - accuracy: 0.11 - ETA: 3:24 - loss: 4.2661 - accuracy: 0.11 - ETA: 3:22 - loss: 3.8893 - accuracy: 0.10 - ETA: 3:16 - loss: 3.6302 - accuracy: 0.10 - ETA: 3:15 - loss: 3.4403 - accuracy: 0.10 - ETA: 3:13 - loss: 3.2983 - accuracy: 0.09 - ETA: 3:06 - loss: 3.1874 - accuracy: 0.09 - ETA: 2:57 - loss: 3.0989 - accuracy: 0.09 - ETA: 2:50 - loss: 3.0271 - accuracy: 0.09 - ETA: 2:43 - loss: 2.9665 - accuracy: 0.09 - ETA: 2:36 - loss: 2.9151 - accuracy: 0.09 - ETA: 2:32 - loss: 2.8712 - accuracy: 0.09 - ETA: 2:28 - loss: 2.8329 - accuracy: 0.10 - ETA: 2:23 - loss: 2.7999 - accuracy: 0.09 - ETA: 2:19 - loss: 2.7708 - accuracy: 0.09 - ETA: 2:14 - loss: 2.7449 - accuracy: 0.09 - ETA: 2:10 - loss: 2.7212 - accuracy: 0.09 - ETA: 2:05 - loss: 2.6997 - accuracy: 0.10 - ETA: 2:01 - loss: 2.6802 - accuracy: 0.10 - ETA: 1:56 - loss: 2.6634 - accuracy: 0.10 - ETA: 1:51 - loss: 2.6461 - accuracy: 0.10 - ETA: 1:46 - loss: 2.6312 - accuracy: 0.10 - ETA: 1:41 - loss: 2.6184 - accuracy: 0.10 - ETA: 1:35 - loss: 2.6047 - accuracy: 0.10 - ETA: 1:30 - loss: 2.5928 - accuracy: 0.11 - ETA: 1:25 - loss: 2.5812 - accuracy: 0.11 - ETA: 1:20 - loss: 2.5699 - accuracy: 0.11 - ETA: 1:15 - loss: 2.5601 - accuracy: 0.11 - ETA: 1:10 - loss: 2.5487 - accuracy: 0.11 - ETA: 1:05 - loss: 2.5397 - accuracy: 0.11 - ETA: 1:01 - loss: 2.5308 - accuracy: 0.11 - ETA: 55s - loss: 2.5211 - accuracy: 0.1204 - ETA: 50s - loss: 2.5149 - accuracy: 0.121 - ETA: 45s - loss: 2.5083 - accuracy: 0.122 - ETA: 40s - loss: 2.5012 - accuracy: 0.123 - ETA: 35s - loss: 2.4939 - accuracy: 0.125 - ETA: 30s - loss: 2.4862 - accuracy: 0.126 - ETA: 25s - loss: 2.4789 - accuracy: 0.127 - ETA: 20s - loss: 2.4707 - accuracy: 0.131 - ETA: 15s - loss: 2.4661 - accuracy: 0.130 - ETA: 10s - loss: 2.4600 - accuracy: 0.130 - ETA: 5s - loss: 2.4501 - accuracy: 0.133 - ETA: 0s - loss: 2.4400 - accuracy: 0.13 - 240s 5s/step - loss: 2.4400 - accuracy: 0.1375 - val_loss: 1.9840 - val_accuracy: 0.3458\n",
      "Epoch 2/10\n",
      "45/45 [==============================] - ETA: 3:48 - loss: 1.9741 - accuracy: 0.21 - ETA: 4:24 - loss: 1.9833 - accuracy: 0.23 - ETA: 3:45 - loss: 1.9885 - accuracy: 0.26 - ETA: 3:29 - loss: 1.9641 - accuracy: 0.28 - ETA: 3:27 - loss: 1.9952 - accuracy: 0.29 - ETA: 3:22 - loss: 2.0202 - accuracy: 0.27 - ETA: 3:12 - loss: 2.0307 - accuracy: 0.26 - ETA: 3:09 - loss: 2.0222 - accuracy: 0.26 - ETA: 3:04 - loss: 2.0182 - accuracy: 0.26 - ETA: 3:00 - loss: 2.0087 - accuracy: 0.26 - ETA: 2:58 - loss: 2.0091 - accuracy: 0.26 - ETA: 2:54 - loss: 2.0018 - accuracy: 0.27 - ETA: 2:47 - loss: 1.9924 - accuracy: 0.27 - ETA: 2:44 - loss: 1.9882 - accuracy: 0.27 - ETA: 2:37 - loss: 1.9820 - accuracy: 0.27 - ETA: 2:31 - loss: 1.9771 - accuracy: 0.27 - ETA: 2:25 - loss: 1.9762 - accuracy: 0.27 - ETA: 2:19 - loss: 1.9728 - accuracy: 0.27 - ETA: 2:14 - loss: 1.9749 - accuracy: 0.27 - ETA: 2:08 - loss: 1.9730 - accuracy: 0.27 - ETA: 2:02 - loss: 1.9697 - accuracy: 0.27 - ETA: 1:57 - loss: 1.9578 - accuracy: 0.28 - ETA: 1:52 - loss: 1.9543 - accuracy: 0.28 - ETA: 1:48 - loss: 1.9535 - accuracy: 0.28 - ETA: 1:43 - loss: 1.9476 - accuracy: 0.28 - ETA: 1:37 - loss: 1.9436 - accuracy: 0.28 - ETA: 1:31 - loss: 1.9395 - accuracy: 0.28 - ETA: 1:26 - loss: 1.9386 - accuracy: 0.28 - ETA: 1:20 - loss: 1.9301 - accuracy: 0.29 - ETA: 1:15 - loss: 1.9272 - accuracy: 0.29 - ETA: 1:10 - loss: 1.9234 - accuracy: 0.29 - ETA: 1:04 - loss: 1.9179 - accuracy: 0.29 - ETA: 59s - loss: 1.9156 - accuracy: 0.2917 - ETA: 54s - loss: 1.9146 - accuracy: 0.291 - ETA: 49s - loss: 1.9079 - accuracy: 0.294 - ETA: 44s - loss: 1.8992 - accuracy: 0.295 - ETA: 39s - loss: 1.8873 - accuracy: 0.300 - ETA: 34s - loss: 1.8779 - accuracy: 0.304 - ETA: 29s - loss: 1.8734 - accuracy: 0.306 - ETA: 24s - loss: 1.8683 - accuracy: 0.307 - ETA: 19s - loss: 1.8620 - accuracy: 0.311 - ETA: 14s - loss: 1.8572 - accuracy: 0.312 - ETA: 9s - loss: 1.8554 - accuracy: 0.314 - ETA: 4s - loss: 1.8490 - accuracy: 0.31 - ETA: 0s - loss: 1.8461 - accuracy: 0.31 - 227s 5s/step - loss: 1.8461 - accuracy: 0.3191 - val_loss: 1.5068 - val_accuracy: 0.4458\n",
      "Epoch 3/10\n",
      "45/45 [==============================] - ETA: 3:29 - loss: 1.7428 - accuracy: 0.32 - ETA: 3:16 - loss: 1.8308 - accuracy: 0.32 - ETA: 3:06 - loss: 1.8134 - accuracy: 0.33 - ETA: 2:59 - loss: 1.8209 - accuracy: 0.33 - ETA: 3:00 - loss: 1.7864 - accuracy: 0.34 - ETA: 3:03 - loss: 1.7824 - accuracy: 0.33 - ETA: 2:59 - loss: 1.7507 - accuracy: 0.34 - ETA: 2:54 - loss: 1.7460 - accuracy: 0.34 - ETA: 2:48 - loss: 1.7499 - accuracy: 0.34 - ETA: 2:47 - loss: 1.7394 - accuracy: 0.34 - ETA: 2:47 - loss: 1.7399 - accuracy: 0.33 - ETA: 2:40 - loss: 1.7465 - accuracy: 0.33 - ETA: 2:34 - loss: 1.7287 - accuracy: 0.35 - ETA: 2:27 - loss: 1.7143 - accuracy: 0.36 - ETA: 2:22 - loss: 1.7095 - accuracy: 0.35 - ETA: 2:16 - loss: 1.7011 - accuracy: 0.36 - ETA: 2:10 - loss: 1.6989 - accuracy: 0.36 - ETA: 2:05 - loss: 1.6800 - accuracy: 0.37 - ETA: 1:59 - loss: 1.6697 - accuracy: 0.37 - ETA: 1:54 - loss: 1.6675 - accuracy: 0.37 - ETA: 1:49 - loss: 1.6770 - accuracy: 0.36 - ETA: 1:44 - loss: 1.6745 - accuracy: 0.36 - ETA: 1:39 - loss: 1.6617 - accuracy: 0.37 - ETA: 1:34 - loss: 1.6619 - accuracy: 0.37 - ETA: 1:29 - loss: 1.6550 - accuracy: 0.37 - ETA: 1:24 - loss: 1.6591 - accuracy: 0.37 - ETA: 1:20 - loss: 1.6535 - accuracy: 0.37 - ETA: 1:15 - loss: 1.6431 - accuracy: 0.38 - ETA: 1:10 - loss: 1.6389 - accuracy: 0.38 - ETA: 1:06 - loss: 1.6384 - accuracy: 0.38 - ETA: 1:01 - loss: 1.6261 - accuracy: 0.38 - ETA: 57s - loss: 1.6173 - accuracy: 0.3906 - ETA: 52s - loss: 1.6173 - accuracy: 0.391 - ETA: 48s - loss: 1.6115 - accuracy: 0.392 - ETA: 43s - loss: 1.6047 - accuracy: 0.396 - ETA: 39s - loss: 1.5998 - accuracy: 0.396 - ETA: 34s - loss: 1.5944 - accuracy: 0.398 - ETA: 30s - loss: 1.5875 - accuracy: 0.400 - ETA: 25s - loss: 1.5902 - accuracy: 0.399 - ETA: 21s - loss: 1.5847 - accuracy: 0.402 - ETA: 17s - loss: 1.5821 - accuracy: 0.404 - ETA: 12s - loss: 1.5818 - accuracy: 0.405 - ETA: 8s - loss: 1.5739 - accuracy: 0.408 - ETA: 4s - loss: 1.5690 - accuracy: 0.41 - ETA: 0s - loss: 1.5617 - accuracy: 0.41 - 202s 4s/step - loss: 1.5617 - accuracy: 0.4146 - val_loss: 1.1600 - val_accuracy: 0.5806\n",
      "Epoch 4/10\n"
     ]
    },
    {
     "name": "stdout",
     "output_type": "stream",
     "text": [
      "45/45 [==============================] - ETA: 2:59 - loss: 1.2258 - accuracy: 0.54 - ETA: 2:55 - loss: 1.3342 - accuracy: 0.46 - ETA: 2:51 - loss: 1.3763 - accuracy: 0.46 - ETA: 2:46 - loss: 1.3032 - accuracy: 0.50 - ETA: 2:41 - loss: 1.2658 - accuracy: 0.51 - ETA: 2:38 - loss: 1.2713 - accuracy: 0.52 - ETA: 2:34 - loss: 1.2686 - accuracy: 0.52 - ETA: 2:30 - loss: 1.2662 - accuracy: 0.53 - ETA: 2:25 - loss: 1.2552 - accuracy: 0.53 - ETA: 2:22 - loss: 1.2485 - accuracy: 0.52 - ETA: 2:18 - loss: 1.2747 - accuracy: 0.51 - ETA: 2:14 - loss: 1.2733 - accuracy: 0.52 - ETA: 2:10 - loss: 1.2693 - accuracy: 0.52 - ETA: 2:06 - loss: 1.2580 - accuracy: 0.52 - ETA: 2:02 - loss: 1.2739 - accuracy: 0.51 - ETA: 1:58 - loss: 1.2743 - accuracy: 0.51 - ETA: 1:54 - loss: 1.2644 - accuracy: 0.51 - ETA: 1:50 - loss: 1.2471 - accuracy: 0.52 - ETA: 1:46 - loss: 1.2605 - accuracy: 0.52 - ETA: 1:42 - loss: 1.2417 - accuracy: 0.52 - ETA: 1:38 - loss: 1.2472 - accuracy: 0.52 - ETA: 1:34 - loss: 1.2446 - accuracy: 0.52 - ETA: 1:30 - loss: 1.2451 - accuracy: 0.52 - ETA: 1:26 - loss: 1.2430 - accuracy: 0.52 - ETA: 1:22 - loss: 1.2456 - accuracy: 0.51 - ETA: 1:18 - loss: 1.2345 - accuracy: 0.52 - ETA: 1:14 - loss: 1.2389 - accuracy: 0.52 - ETA: 1:10 - loss: 1.2320 - accuracy: 0.52 - ETA: 1:06 - loss: 1.2397 - accuracy: 0.52 - ETA: 1:02 - loss: 1.2318 - accuracy: 0.53 - ETA: 57s - loss: 1.2290 - accuracy: 0.5323 - ETA: 53s - loss: 1.2246 - accuracy: 0.535 - ETA: 49s - loss: 1.2220 - accuracy: 0.536 - ETA: 45s - loss: 1.2156 - accuracy: 0.540 - ETA: 41s - loss: 1.2093 - accuracy: 0.543 - ETA: 37s - loss: 1.2048 - accuracy: 0.545 - ETA: 33s - loss: 1.2043 - accuracy: 0.543 - ETA: 29s - loss: 1.2057 - accuracy: 0.544 - ETA: 24s - loss: 1.2095 - accuracy: 0.541 - ETA: 20s - loss: 1.2057 - accuracy: 0.544 - ETA: 16s - loss: 1.2019 - accuracy: 0.547 - ETA: 12s - loss: 1.1974 - accuracy: 0.548 - ETA: 8s - loss: 1.1899 - accuracy: 0.552 - ETA: 4s - loss: 1.1840 - accuracy: 0.55 - ETA: 0s - loss: 1.1764 - accuracy: 0.55 - 195s 4s/step - loss: 1.1764 - accuracy: 0.5583 - val_loss: 0.8200 - val_accuracy: 0.7264\n",
      "Epoch 5/10\n",
      "45/45 [==============================] - ETA: 3:06 - loss: 1.3905 - accuracy: 0.42 - ETA: 3:05 - loss: 1.1107 - accuracy: 0.55 - ETA: 2:57 - loss: 1.1474 - accuracy: 0.55 - ETA: 2:50 - loss: 1.1009 - accuracy: 0.56 - ETA: 2:46 - loss: 1.0639 - accuracy: 0.58 - ETA: 2:42 - loss: 1.0599 - accuracy: 0.59 - ETA: 2:37 - loss: 1.0339 - accuracy: 0.60 - ETA: 2:33 - loss: 1.0117 - accuracy: 0.61 - ETA: 2:29 - loss: 0.9978 - accuracy: 0.62 - ETA: 2:25 - loss: 1.0118 - accuracy: 0.62 - ETA: 2:20 - loss: 0.9953 - accuracy: 0.63 - ETA: 2:16 - loss: 0.9875 - accuracy: 0.63 - ETA: 2:12 - loss: 0.9732 - accuracy: 0.64 - ETA: 2:08 - loss: 0.9784 - accuracy: 0.64 - ETA: 2:03 - loss: 0.9617 - accuracy: 0.65 - ETA: 1:59 - loss: 0.9533 - accuracy: 0.65 - ETA: 1:55 - loss: 0.9475 - accuracy: 0.65 - ETA: 1:51 - loss: 0.9515 - accuracy: 0.65 - ETA: 1:46 - loss: 0.9383 - accuracy: 0.65 - ETA: 1:42 - loss: 0.9305 - accuracy: 0.65 - ETA: 1:38 - loss: 0.9367 - accuracy: 0.65 - ETA: 1:34 - loss: 0.9339 - accuracy: 0.65 - ETA: 1:30 - loss: 0.9352 - accuracy: 0.65 - ETA: 1:26 - loss: 0.9374 - accuracy: 0.65 - ETA: 1:22 - loss: 0.9363 - accuracy: 0.65 - ETA: 1:18 - loss: 0.9320 - accuracy: 0.65 - ETA: 1:14 - loss: 0.9267 - accuracy: 0.66 - ETA: 1:10 - loss: 0.9243 - accuracy: 0.66 - ETA: 1:06 - loss: 0.9197 - accuracy: 0.66 - ETA: 1:02 - loss: 0.9193 - accuracy: 0.66 - ETA: 57s - loss: 0.9194 - accuracy: 0.6663 - ETA: 53s - loss: 0.9248 - accuracy: 0.663 - ETA: 49s - loss: 0.9231 - accuracy: 0.662 - ETA: 45s - loss: 0.9240 - accuracy: 0.660 - ETA: 41s - loss: 0.9191 - accuracy: 0.663 - ETA: 37s - loss: 0.9190 - accuracy: 0.664 - ETA: 33s - loss: 0.9178 - accuracy: 0.664 - ETA: 28s - loss: 0.9225 - accuracy: 0.660 - ETA: 24s - loss: 0.9271 - accuracy: 0.657 - ETA: 20s - loss: 0.9252 - accuracy: 0.658 - ETA: 16s - loss: 0.9230 - accuracy: 0.660 - ETA: 12s - loss: 0.9182 - accuracy: 0.662 - ETA: 8s - loss: 0.9191 - accuracy: 0.659 - ETA: 4s - loss: 0.9184 - accuracy: 0.65 - ETA: 0s - loss: 0.9191 - accuracy: 0.65 - 195s 4s/step - loss: 0.9191 - accuracy: 0.6597 - val_loss: 0.7355 - val_accuracy: 0.7569\n",
      "Epoch 6/10\n",
      "45/45 [==============================] - ETA: 3:09 - loss: 0.8671 - accuracy: 0.70 - ETA: 2:56 - loss: 0.7241 - accuracy: 0.73 - ETA: 2:50 - loss: 0.8647 - accuracy: 0.66 - ETA: 2:46 - loss: 0.8243 - accuracy: 0.69 - ETA: 2:44 - loss: 0.8366 - accuracy: 0.69 - ETA: 2:40 - loss: 0.8273 - accuracy: 0.69 - ETA: 2:35 - loss: 0.9062 - accuracy: 0.68 - ETA: 2:31 - loss: 0.8759 - accuracy: 0.68 - ETA: 2:28 - loss: 0.8577 - accuracy: 0.69 - ETA: 2:24 - loss: 0.8471 - accuracy: 0.70 - ETA: 2:19 - loss: 0.8451 - accuracy: 0.69 - ETA: 2:16 - loss: 0.8496 - accuracy: 0.69 - ETA: 2:12 - loss: 0.8651 - accuracy: 0.68 - ETA: 2:08 - loss: 0.8594 - accuracy: 0.67 - ETA: 2:04 - loss: 0.8594 - accuracy: 0.68 - ETA: 2:00 - loss: 0.8521 - accuracy: 0.68 - ETA: 1:56 - loss: 0.8515 - accuracy: 0.68 - ETA: 1:51 - loss: 0.8541 - accuracy: 0.68 - ETA: 1:47 - loss: 0.8518 - accuracy: 0.68 - ETA: 1:43 - loss: 0.8531 - accuracy: 0.68 - ETA: 1:39 - loss: 0.8572 - accuracy: 0.68 - ETA: 1:34 - loss: 0.8562 - accuracy: 0.68 - ETA: 1:30 - loss: 0.8529 - accuracy: 0.68 - ETA: 1:26 - loss: 0.8557 - accuracy: 0.68 - ETA: 1:22 - loss: 0.8634 - accuracy: 0.68 - ETA: 1:18 - loss: 0.8732 - accuracy: 0.67 - ETA: 1:13 - loss: 0.8664 - accuracy: 0.68 - ETA: 1:09 - loss: 0.8613 - accuracy: 0.68 - ETA: 1:05 - loss: 0.8595 - accuracy: 0.68 - ETA: 1:01 - loss: 0.8608 - accuracy: 0.68 - ETA: 57s - loss: 0.8573 - accuracy: 0.6855 - ETA: 53s - loss: 0.8665 - accuracy: 0.684 - ETA: 49s - loss: 0.8609 - accuracy: 0.686 - ETA: 44s - loss: 0.8594 - accuracy: 0.685 - ETA: 40s - loss: 0.8520 - accuracy: 0.688 - ETA: 36s - loss: 0.8437 - accuracy: 0.691 - ETA: 32s - loss: 0.8429 - accuracy: 0.690 - ETA: 28s - loss: 0.8383 - accuracy: 0.692 - ETA: 24s - loss: 0.8378 - accuracy: 0.691 - ETA: 20s - loss: 0.8395 - accuracy: 0.691 - ETA: 16s - loss: 0.8364 - accuracy: 0.693 - ETA: 12s - loss: 0.8384 - accuracy: 0.691 - ETA: 8s - loss: 0.8360 - accuracy: 0.692 - ETA: 4s - loss: 0.8335 - accuracy: 0.69 - ETA: 0s - loss: 0.8307 - accuracy: 0.69 - 192s 4s/step - loss: 0.8307 - accuracy: 0.6948 - val_loss: 0.6395 - val_accuracy: 0.8083\n",
      "Epoch 7/10\n"
     ]
    },
    {
     "name": "stdout",
     "output_type": "stream",
     "text": [
      "45/45 [==============================] - ETA: 3:07 - loss: 0.8163 - accuracy: 0.60 - ETA: 2:51 - loss: 0.7335 - accuracy: 0.66 - ETA: 2:47 - loss: 0.6985 - accuracy: 0.68 - ETA: 2:43 - loss: 0.6563 - accuracy: 0.71 - ETA: 2:41 - loss: 0.6501 - accuracy: 0.70 - ETA: 2:37 - loss: 0.6637 - accuracy: 0.72 - ETA: 2:33 - loss: 0.6837 - accuracy: 0.71 - ETA: 2:29 - loss: 0.7031 - accuracy: 0.71 - ETA: 2:25 - loss: 0.6957 - accuracy: 0.72 - ETA: 2:21 - loss: 0.6963 - accuracy: 0.72 - ETA: 2:17 - loss: 0.6921 - accuracy: 0.72 - ETA: 2:13 - loss: 0.6886 - accuracy: 0.73 - ETA: 2:09 - loss: 0.6900 - accuracy: 0.73 - ETA: 2:05 - loss: 0.6885 - accuracy: 0.73 - ETA: 2:01 - loss: 0.7048 - accuracy: 0.72 - ETA: 1:57 - loss: 0.7183 - accuracy: 0.72 - ETA: 1:53 - loss: 0.7226 - accuracy: 0.72 - ETA: 1:49 - loss: 0.7288 - accuracy: 0.72 - ETA: 1:45 - loss: 0.7279 - accuracy: 0.71 - ETA: 1:41 - loss: 0.7250 - accuracy: 0.71 - ETA: 1:37 - loss: 0.7198 - accuracy: 0.72 - ETA: 1:33 - loss: 0.7366 - accuracy: 0.71 - ETA: 1:30 - loss: 0.7418 - accuracy: 0.71 - ETA: 1:26 - loss: 0.7368 - accuracy: 0.71 - ETA: 1:22 - loss: 0.7369 - accuracy: 0.71 - ETA: 1:18 - loss: 0.7339 - accuracy: 0.72 - ETA: 1:14 - loss: 0.7385 - accuracy: 0.71 - ETA: 1:10 - loss: 0.7364 - accuracy: 0.72 - ETA: 1:06 - loss: 0.7315 - accuracy: 0.72 - ETA: 1:02 - loss: 0.7291 - accuracy: 0.72 - ETA: 58s - loss: 0.7276 - accuracy: 0.7253 - ETA: 54s - loss: 0.7283 - accuracy: 0.724 - ETA: 49s - loss: 0.7335 - accuracy: 0.725 - ETA: 45s - loss: 0.7294 - accuracy: 0.726 - ETA: 41s - loss: 0.7322 - accuracy: 0.725 - ETA: 37s - loss: 0.7331 - accuracy: 0.724 - ETA: 33s - loss: 0.7332 - accuracy: 0.725 - ETA: 29s - loss: 0.7320 - accuracy: 0.725 - ETA: 24s - loss: 0.7338 - accuracy: 0.724 - ETA: 20s - loss: 0.7408 - accuracy: 0.721 - ETA: 16s - loss: 0.7382 - accuracy: 0.721 - ETA: 12s - loss: 0.7327 - accuracy: 0.725 - ETA: 8s - loss: 0.7275 - accuracy: 0.727 - ETA: 4s - loss: 0.7333 - accuracy: 0.72 - ETA: 0s - loss: 0.7342 - accuracy: 0.72 - 195s 4s/step - loss: 0.7342 - accuracy: 0.7250 - val_loss: 0.6165 - val_accuracy: 0.8069\n",
      "Epoch 8/10\n",
      "45/45 [==============================] - ETA: 3:01 - loss: 0.7850 - accuracy: 0.73 - ETA: 2:50 - loss: 0.7567 - accuracy: 0.72 - ETA: 2:46 - loss: 0.7373 - accuracy: 0.70 - ETA: 2:44 - loss: 0.6997 - accuracy: 0.72 - ETA: 2:41 - loss: 0.7071 - accuracy: 0.71 - ETA: 2:37 - loss: 0.7469 - accuracy: 0.69 - ETA: 2:32 - loss: 0.7312 - accuracy: 0.70 - ETA: 2:29 - loss: 0.7503 - accuracy: 0.71 - ETA: 2:25 - loss: 0.7386 - accuracy: 0.71 - ETA: 2:21 - loss: 0.7396 - accuracy: 0.71 - ETA: 2:17 - loss: 0.7455 - accuracy: 0.72 - ETA: 2:13 - loss: 0.7539 - accuracy: 0.71 - ETA: 2:09 - loss: 0.7352 - accuracy: 0.72 - ETA: 2:05 - loss: 0.7607 - accuracy: 0.72 - ETA: 2:01 - loss: 0.7527 - accuracy: 0.73 - ETA: 1:57 - loss: 0.7462 - accuracy: 0.73 - ETA: 1:53 - loss: 0.7449 - accuracy: 0.72 - ETA: 1:49 - loss: 0.7564 - accuracy: 0.72 - ETA: 1:45 - loss: 0.7513 - accuracy: 0.72 - ETA: 1:41 - loss: 0.7587 - accuracy: 0.71 - ETA: 1:37 - loss: 0.7529 - accuracy: 0.72 - ETA: 1:34 - loss: 0.7490 - accuracy: 0.72 - ETA: 1:30 - loss: 0.7400 - accuracy: 0.72 - ETA: 1:26 - loss: 0.7427 - accuracy: 0.72 - ETA: 1:22 - loss: 0.7417 - accuracy: 0.72 - ETA: 1:18 - loss: 0.7329 - accuracy: 0.73 - ETA: 1:13 - loss: 0.7352 - accuracy: 0.72 - ETA: 1:09 - loss: 0.7284 - accuracy: 0.72 - ETA: 1:05 - loss: 0.7256 - accuracy: 0.72 - ETA: 1:01 - loss: 0.7199 - accuracy: 0.73 - ETA: 57s - loss: 0.7199 - accuracy: 0.7298 - ETA: 53s - loss: 0.7214 - accuracy: 0.729 - ETA: 49s - loss: 0.7130 - accuracy: 0.732 - ETA: 45s - loss: 0.7127 - accuracy: 0.731 - ETA: 41s - loss: 0.7076 - accuracy: 0.733 - ETA: 37s - loss: 0.7094 - accuracy: 0.733 - ETA: 33s - loss: 0.7040 - accuracy: 0.734 - ETA: 29s - loss: 0.6991 - accuracy: 0.737 - ETA: 25s - loss: 0.6952 - accuracy: 0.738 - ETA: 20s - loss: 0.6924 - accuracy: 0.741 - ETA: 16s - loss: 0.6892 - accuracy: 0.741 - ETA: 12s - loss: 0.6866 - accuracy: 0.742 - ETA: 8s - loss: 0.6960 - accuracy: 0.740 - ETA: 4s - loss: 0.6949 - accuracy: 0.74 - ETA: 0s - loss: 0.6954 - accuracy: 0.74 - 199s 4s/step - loss: 0.6954 - accuracy: 0.7413 - val_loss: 0.5663 - val_accuracy: 0.8333\n",
      "Epoch 9/10\n",
      "45/45 [==============================] - ETA: 3:07 - loss: 0.6462 - accuracy: 0.78 - ETA: 3:04 - loss: 0.6643 - accuracy: 0.76 - ETA: 2:56 - loss: 0.6632 - accuracy: 0.77 - ETA: 2:48 - loss: 0.6572 - accuracy: 0.76 - ETA: 2:42 - loss: 0.6514 - accuracy: 0.76 - ETA: 2:39 - loss: 0.6505 - accuracy: 0.76 - ETA: 2:34 - loss: 0.6608 - accuracy: 0.76 - ETA: 2:29 - loss: 0.6475 - accuracy: 0.76 - ETA: 2:25 - loss: 0.6331 - accuracy: 0.76 - ETA: 2:21 - loss: 0.6132 - accuracy: 0.76 - ETA: 2:17 - loss: 0.6304 - accuracy: 0.76 - ETA: 2:12 - loss: 0.6020 - accuracy: 0.77 - ETA: 2:08 - loss: 0.6079 - accuracy: 0.77 - ETA: 2:04 - loss: 0.6167 - accuracy: 0.77 - ETA: 2:00 - loss: 0.6159 - accuracy: 0.76 - ETA: 1:56 - loss: 0.6311 - accuracy: 0.76 - ETA: 1:52 - loss: 0.6433 - accuracy: 0.76 - ETA: 1:48 - loss: 0.6399 - accuracy: 0.76 - ETA: 1:44 - loss: 0.6439 - accuracy: 0.76 - ETA: 1:40 - loss: 0.6528 - accuracy: 0.75 - ETA: 1:36 - loss: 0.6484 - accuracy: 0.76 - ETA: 1:32 - loss: 0.6505 - accuracy: 0.75 - ETA: 1:28 - loss: 0.6486 - accuracy: 0.76 - ETA: 1:24 - loss: 0.6464 - accuracy: 0.76 - ETA: 1:19 - loss: 0.6463 - accuracy: 0.76 - ETA: 1:16 - loss: 0.6436 - accuracy: 0.76 - ETA: 1:12 - loss: 0.6398 - accuracy: 0.76 - ETA: 1:08 - loss: 0.6364 - accuracy: 0.76 - ETA: 1:03 - loss: 0.6327 - accuracy: 0.76 - ETA: 1:00 - loss: 0.6272 - accuracy: 0.77 - ETA: 56s - loss: 0.6290 - accuracy: 0.7702 - ETA: 51s - loss: 0.6251 - accuracy: 0.771 - ETA: 47s - loss: 0.6209 - accuracy: 0.772 - ETA: 43s - loss: 0.6200 - accuracy: 0.772 - ETA: 39s - loss: 0.6166 - accuracy: 0.774 - ETA: 35s - loss: 0.6160 - accuracy: 0.774 - ETA: 31s - loss: 0.6150 - accuracy: 0.773 - ETA: 27s - loss: 0.6124 - accuracy: 0.774 - ETA: 23s - loss: 0.6141 - accuracy: 0.774 - ETA: 19s - loss: 0.6095 - accuracy: 0.775 - ETA: 15s - loss: 0.6077 - accuracy: 0.775 - ETA: 12s - loss: 0.6083 - accuracy: 0.774 - ETA: 8s - loss: 0.6139 - accuracy: 0.771 - ETA: 4s - loss: 0.6175 - accuracy: 0.76 - ETA: 0s - loss: 0.6150 - accuracy: 0.77 - 189s 4s/step - loss: 0.6150 - accuracy: 0.7705 - val_loss: 0.5223 - val_accuracy: 0.8431\n",
      "Epoch 10/10\n"
     ]
    },
    {
     "name": "stdout",
     "output_type": "stream",
     "text": [
      "45/45 [==============================] - ETA: 2:58 - loss: 0.5032 - accuracy: 0.76 - ETA: 2:51 - loss: 0.4774 - accuracy: 0.82 - ETA: 2:50 - loss: 0.4739 - accuracy: 0.82 - ETA: 2:45 - loss: 0.5155 - accuracy: 0.81 - ETA: 2:40 - loss: 0.5443 - accuracy: 0.80 - ETA: 2:36 - loss: 0.5426 - accuracy: 0.80 - ETA: 2:33 - loss: 0.5460 - accuracy: 0.81 - ETA: 2:29 - loss: 0.5271 - accuracy: 0.81 - ETA: 2:25 - loss: 0.5175 - accuracy: 0.80 - ETA: 2:20 - loss: 0.5249 - accuracy: 0.80 - ETA: 2:17 - loss: 0.5350 - accuracy: 0.80 - ETA: 2:13 - loss: 0.5345 - accuracy: 0.79 - ETA: 2:09 - loss: 0.5310 - accuracy: 0.80 - ETA: 2:05 - loss: 0.5307 - accuracy: 0.80 - ETA: 2:01 - loss: 0.5398 - accuracy: 0.79 - ETA: 1:57 - loss: 0.5567 - accuracy: 0.79 - ETA: 1:53 - loss: 0.5580 - accuracy: 0.79 - ETA: 1:49 - loss: 0.5544 - accuracy: 0.79 - ETA: 1:45 - loss: 0.5696 - accuracy: 0.78 - ETA: 1:41 - loss: 0.5723 - accuracy: 0.78 - ETA: 1:37 - loss: 0.5714 - accuracy: 0.78 - ETA: 1:33 - loss: 0.5731 - accuracy: 0.78 - ETA: 1:29 - loss: 0.5797 - accuracy: 0.78 - ETA: 1:25 - loss: 0.5892 - accuracy: 0.77 - ETA: 1:21 - loss: 0.5835 - accuracy: 0.77 - ETA: 1:17 - loss: 0.5840 - accuracy: 0.77 - ETA: 1:13 - loss: 0.5852 - accuracy: 0.77 - ETA: 1:09 - loss: 0.5827 - accuracy: 0.77 - ETA: 1:05 - loss: 0.5880 - accuracy: 0.77 - ETA: 1:01 - loss: 0.5840 - accuracy: 0.77 - ETA: 57s - loss: 0.5837 - accuracy: 0.7767 - ETA: 53s - loss: 0.5859 - accuracy: 0.775 - ETA: 49s - loss: 0.5834 - accuracy: 0.775 - ETA: 44s - loss: 0.5824 - accuracy: 0.776 - ETA: 40s - loss: 0.5835 - accuracy: 0.776 - ETA: 36s - loss: 0.5833 - accuracy: 0.776 - ETA: 32s - loss: 0.5813 - accuracy: 0.777 - ETA: 28s - loss: 0.5838 - accuracy: 0.778 - ETA: 24s - loss: 0.5859 - accuracy: 0.776 - ETA: 20s - loss: 0.5821 - accuracy: 0.777 - ETA: 16s - loss: 0.5821 - accuracy: 0.776 - ETA: 12s - loss: 0.5841 - accuracy: 0.776 - ETA: 8s - loss: 0.5819 - accuracy: 0.777 - ETA: 4s - loss: 0.5827 - accuracy: 0.77 - ETA: 0s - loss: 0.5823 - accuracy: 0.77 - 193s 4s/step - loss: 0.5823 - accuracy: 0.7771 - val_loss: 0.5059 - val_accuracy: 0.8653\n"
     ]
    }
   ],
   "source": [
    "history=model.fit(x_train, y_train_encoded, epochs=10, validation_data=(x_test, y_test_encoded), batch_size=64)"
   ]
  },
  {
   "cell_type": "code",
   "execution_count": 60,
   "metadata": {},
   "outputs": [
    {
     "data": {
      "image/png": "[encoded data removed]",
      "text/plain": [
       "<Figure size 432x288 with 1 Axes>"
      ]
     },
     "metadata": {
      "needs_background": "light"
     },
     "output_type": "display_data"
    },
    {
     "data": {
      "text/plain": [
       "<matplotlib.legend.Legend at 0x1728021f048>"
      ]
     },
     "execution_count": 60,
     "metadata": {},
     "output_type": "execute_result"
    },
    {
     "data": {
      "image/png": "[encoded data removed]",
      "text/plain": [
       "<Figure size 432x288 with 1 Axes>"
      ]
     },
     "metadata": {
      "needs_background": "light"
     },
     "output_type": "display_data"
    }
   ],
   "source": [
    "plt.plot(history.history['accuracy'])\n",
    "plt.plot(history.history['val_accuracy'])\n",
    "plt.title('model accuracy')\n",
    "plt.ylabel('accuracy')\n",
    "plt.xlabel('epoch')\n",
    "plt.legend(['train', 'test'], loc='upper left')\n",
    "plt.show()\n",
    "# summarize history for loss\n",
    "plt.plot(history.history['loss'])\n",
    "plt.plot(history.history['val_loss'])\n",
    "plt.title('model loss')\n",
    "plt.ylabel('loss')\n",
    "plt.xlabel('epoch')\n",
    "plt.legend(['train', 'test'], loc='upper left')"
   ]
  },
  {
   "cell_type": "code",
   "execution_count": 61,
   "metadata": {},
   "outputs": [
    {
     "name": "stderr",
     "output_type": "stream",
     "text": [
      "C:\\Users\\User\\Anaconda3\\lib\\site-packages\\tensorflow\\python\\keras\\engine\\sequential.py:455: UserWarning: `model.predict_classes()` is deprecated and will be removed after 2021-01-01. Please use instead:* `np.argmax(model.predict(x), axis=-1)`,   if your model does multi-class classification   (e.g. if it uses a `softmax` last-layer activation).* `(model.predict(x) > 0.5).astype(\"int32\")`,   if your model does binary classification   (e.g. if it uses a `sigmoid` last-layer activation).\n",
      "  warnings.warn('`model.predict_classes()` is deprecated and '\n"
     ]
    },
    {
     "name": "stdout",
     "output_type": "stream",
     "text": [
      "accuracy:  0.8575\n"
     ]
    }
   ],
   "source": [
    "from sklearn.metrics import accuracy_score\n",
    "x_cnn=x_final_test/255\n",
    "x_cnn=x_cnn[..., np.newaxis]\n",
    "predictions = model.predict_classes(x_cnn)\n",
    "print(\"accuracy: \", accuracy_score(y_final_test, predictions))"
   ]
  },
  {
   "cell_type": "code",
   "execution_count": 63,
   "metadata": {},
   "outputs": [
    {
     "data": {
      "text/plain": [
       "array([7, 0, 5, 2, 2, 9, 2, 5, 3, 0, 9, 1, 1, 3, 1, 6, 6, 5, 5, 1, 0, 9,\n",
       "       8, 0, 9, 2, 8, 9, 2, 9, 4, 6, 1, 8, 2, 2, 9, 3, 3, 8, 1, 1, 0, 2,\n",
       "       9, 3, 4, 0, 4, 1, 7, 8, 1, 9, 0, 5, 4, 0, 3, 3, 6, 7, 1, 2, 0, 6,\n",
       "       5, 5, 1, 7, 3, 0, 1, 9, 6, 5, 9, 4, 6, 0, 0, 5, 8, 6, 1, 6, 7, 2,\n",
       "       2, 5, 8, 2, 8, 4, 6, 9, 6, 6, 1, 6, 2, 0, 1, 3, 0, 0, 3, 8, 8, 3,\n",
       "       5, 9, 9, 7, 1, 1, 7, 8, 9, 3, 2, 0, 6, 0, 4, 8, 9, 4, 6, 7, 3, 9,\n",
       "       4, 2, 4, 8, 6, 5, 9, 0, 3, 7, 3, 5, 4, 1, 2, 4, 9, 0, 7, 9, 3, 0,\n",
       "       4, 2, 2, 7, 8, 9, 5, 8, 4, 8, 2, 4, 4, 3, 5, 2, 1, 3, 2, 3, 7, 2,\n",
       "       5, 1, 0, 0, 3, 3, 8, 4, 1, 7, 7, 5, 7, 4, 3, 3, 7, 2, 8, 5, 8, 5,\n",
       "       7, 8, 4, 5, 7, 8, 7, 3, 0, 0, 6, 4, 5, 2, 4, 8, 6, 2, 9, 6, 9, 7,\n",
       "       9, 4, 7, 3, 3, 4, 4, 9, 0, 5, 2, 9, 5, 0, 3, 7, 5, 9, 6, 7, 9, 3,\n",
       "       1, 8, 0, 2, 8, 2, 6, 7, 3, 6, 4, 7, 1, 9, 1, 2, 6, 4, 3, 0, 0, 0,\n",
       "       4, 3, 8, 8, 5, 2, 1, 5, 7, 7, 4, 1, 7, 5, 6, 8, 0, 6, 9, 2, 5, 8,\n",
       "       5, 4, 2, 5, 1, 1, 0, 6, 4, 8, 0, 9, 5, 6, 7, 4, 8, 3, 1, 3, 3, 0,\n",
       "       1, 7, 0, 3, 1, 9, 8, 5, 6, 8, 5, 5, 5, 7, 9, 6, 9, 9, 7, 6, 5, 4,\n",
       "       1, 5, 4, 7, 6, 2, 1, 0, 1, 2, 5, 0, 6, 2, 8, 1, 8, 6, 6, 0, 7, 2,\n",
       "       6, 4, 8, 9, 3, 7, 9, 7, 6, 1, 1, 4, 4, 9, 4, 4, 1, 1, 8, 5, 6, 0,\n",
       "       7, 4, 6, 4, 7, 8, 6, 7, 3, 3, 3, 8, 2, 9, 2, 8, 5, 3, 9, 0, 4, 1,\n",
       "       2, 6, 8, 2])"
      ]
     },
     "execution_count": 63,
     "metadata": {},
     "output_type": "execute_result"
    }
   ],
   "source": [
    "y_final_test"
   ]
  },
  {
   "cell_type": "code",
   "execution_count": 64,
   "metadata": {},
   "outputs": [
    {
     "data": {
      "image/png": "[encoded data removed]",
      "text/plain": [
       "<Figure size 720x720 with 1 Axes>"
      ]
     },
     "metadata": {
      "needs_background": "light"
     },
     "output_type": "display_data"
    }
   ],
   "source": [
    "import numpy as np\n",
    "import matplotlib.pyplot as plt\n",
    "from itertools import cycle\n",
    "\n",
    "from sklearn import svm, datasets\n",
    "from sklearn.metrics import roc_curve, auc\n",
    "from sklearn.model_selection import train_test_split\n",
    "from sklearn.preprocessing import label_binarize\n",
    "from sklearn.multiclass import OneVsRestClassifier\n",
    "from scipy import interp\n",
    "from sklearn.metrics import roc_auc_score\n",
    "\n",
    "y_test=to_categorical(y_final_test,10)\n",
    "y_score = to_categorical(predictions,10)\n",
    "n_classes=10\n",
    "# Compute ROC curve and ROC area for each class\n",
    "fpr = dict()\n",
    "tpr = dict()\n",
    "roc_auc = dict()\n",
    "for i in range(n_classes):\n",
    "    \n",
    "    fpr[i], tpr[i], _ = roc_curve(y_test[:, i], y_score[:, i])\n",
    "    roc_auc[i] = auc(fpr[i], tpr[i])\n",
    "fpr[\"micro\"], tpr[\"micro\"], _ = roc_curve(y_test.ravel(), y_score.ravel())\n",
    "roc_auc[\"micro\"] = auc(fpr[\"micro\"], tpr[\"micro\"])\n",
    "\n",
    "\n",
    "\n",
    "\n",
    "\n",
    "all_fpr = np.unique(np.concatenate([fpr[i] for i in range(n_classes)]))\n",
    "\n",
    "# Then interpolate all ROC curves at this points\n",
    "mean_tpr = np.zeros_like(all_fpr)\n",
    "for i in range(n_classes):\n",
    "    mean_tpr += interp(all_fpr, fpr[i], tpr[i])\n",
    "\n",
    "# Finally average it and compute AUC\n",
    "mean_tpr /= n_classes\n",
    "\n",
    "fpr[\"macro\"] = all_fpr\n",
    "tpr[\"macro\"] = mean_tpr\n",
    "roc_auc[\"macro\"] = auc(fpr[\"macro\"], tpr[\"macro\"])\n",
    "\n",
    "# Plot all ROC curves\n",
    "plt.figure(figsize=(10,10))\n",
    "plt.plot(fpr[\"micro\"], tpr[\"micro\"],\n",
    "         label='micro-average ROC curve (area = {0:0.2f})'\n",
    "               ''.format(roc_auc[\"micro\"]),\n",
    "         color='deeppink', linestyle=':', linewidth=4)\n",
    "\n",
    "plt.plot(fpr[\"macro\"], tpr[\"macro\"],\n",
    "         label='macro-average ROC curve (area = {0:0.2f})'\n",
    "               ''.format(roc_auc[\"macro\"]),\n",
    "         color='navy', linestyle=':', linewidth=4)\n",
    "\n",
    "colors = cycle(['aqua', 'darkorange', 'cornflowerblue'])\n",
    "for i, color in zip(range(n_classes), colors):\n",
    "    plt.plot(fpr[i], tpr[i], color=color, \n",
    "             label='ROC curve of class {0} (area = {1:0.2f})'\n",
    "             ''.format(i, roc_auc[i]))\n",
    "\n",
    "plt.plot([0, 1], [0, 1], 'k--')\n",
    "plt.xlim([0.0, 1.0])\n",
    "plt.ylim([0.0, 1.05])\n",
    "plt.xlabel('False Positive Rate')\n",
    "plt.ylabel('True Positive Rate')\n",
    "plt.title('Receiver operating characteristic curve for Segmentation')\n",
    "plt.legend(loc=\"lower right\",prop={'size': 10})\n",
    "plt.show()"
   ]
  },
  {
   "cell_type": "code",
   "execution_count": 70,
   "metadata": {},
   "outputs": [
    {
     "data": {
      "text/plain": [
       "array([[36,  0,  0,  0,  1,  0,  1,  0,  0,  0],\n",
       "       [ 1, 36,  5,  0,  0,  0,  2,  1,  0,  0],\n",
       "       [ 0,  1, 30,  1,  1,  0,  2,  0,  0,  0],\n",
       "       [ 0,  0,  2, 31,  4,  3,  0,  0,  1,  0],\n",
       "       [ 0,  1,  0,  3, 34,  1,  0,  0,  0,  0],\n",
       "       [ 0,  0,  0,  0,  0, 35,  0,  0,  0,  0],\n",
       "       [ 0,  2,  1,  1,  0,  0, 35,  0,  0,  0],\n",
       "       [ 0,  0,  0,  2,  0,  0,  0, 32,  5,  0],\n",
       "       [ 0,  0,  2,  1,  0,  0,  0,  5, 34,  0],\n",
       "       [ 3,  0,  0,  1,  1,  1,  0,  1,  0, 40]], dtype=int64)"
      ]
     },
     "execution_count": 70,
     "metadata": {},
     "output_type": "execute_result"
    }
   ],
   "source": [
    "from sklearn.metrics import confusion_matrix\n",
    "import numpy as np\n",
    "\n",
    "cm = confusion_matrix(predictions, y_final_test)\n",
    "cm"
   ]
  },
  {
   "cell_type": "code",
   "execution_count": null,
   "metadata": {},
   "outputs": [],
   "source": []
  }
 ],
 "metadata": {
  "kernelspec": {
   "display_name": "Python 3",
   "language": "python",
   "name": "python3"
  },
  "language_info": {
   "codemirror_mode": {
    "name": "ipython",
    "version": 3
   },
   "file_extension": ".py",
   "mimetype": "text/x-python",
   "name": "python",
   "nbconvert_exporter": "python",
   "pygments_lexer": "ipython3",
   "version": "3.7.3"
  }
 },
 "nbformat": 4,
 "nbformat_minor": 2
}
